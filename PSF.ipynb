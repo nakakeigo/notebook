{
 "cells": [
  {
   "cell_type": "code",
   "execution_count": 49,
   "metadata": {
    "jupyter": {
     "outputs_hidden": false
    }
   },
   "outputs": [],
   "source": [
    "import numpy as np\n",
    "\n",
    "%matplotlib ipympl\n",
    "%matplotlib inline\n",
    "import matplotlib.pyplot as plt\n",
    "from astropy.table import Table"
   ]
  },
  {
   "cell_type": "markdown",
   "metadata": {},
   "source": [
    "I don't understand why you need to run this command twice to get an interactive matplotlib display"
   ]
  },
  {
   "cell_type": "code",
   "execution_count": 50,
   "metadata": {},
   "outputs": [],
   "source": [
    "%matplotlib ipympl"
   ]
  },
  {
   "cell_type": "code",
   "execution_count": 51,
   "metadata": {},
   "outputs": [],
   "source": [
    "import lsst.daf.persistence        as dafPersist\n",
    "import lsst.afw.geom               as afwGeom\n",
    "from matplotlib.colors import LogNorm\n",
    "import lsst.afw.table              as afwTable\n",
    "import lsst.meas.extensions.psfex.psfexPsfDeterminer\n",
    "\n",
    "import lsst.afw.display            as afwDisplay\n",
    "import lsst.afw.display.utils as afwDisplayUtils"
   ]
  },
  {
   "cell_type": "markdown",
   "metadata": {},
   "source": [
    "#### Load the high-level \"tasks\" that process the pixels"
   ]
  },
  {
   "cell_type": "code",
   "execution_count": 52,
   "metadata": {},
   "outputs": [],
   "source": [
    "from lsst.pipe.tasks.characterizeImage import CharacterizeImageTask"
   ]
  },
  {
   "cell_type": "markdown",
   "metadata": {},
   "source": [
    "#### Setup the displays (by default an interface to ds9, which won't work in the LSP)"
   ]
  },
  {
   "cell_type": "code",
   "execution_count": 53,
   "metadata": {},
   "outputs": [],
   "source": [
    "afwDisplay.setDefaultBackend(\"matplotlib\")"
   ]
  },
  {
   "cell_type": "markdown",
   "metadata": {},
   "source": [
    "## Create the task"
   ]
  },
  {
   "cell_type": "code",
   "execution_count": 54,
   "metadata": {},
   "outputs": [],
   "source": [
    "config = CharacterizeImageTask.ConfigClass()\n",
    "config.psfIterations = 1\n",
    "config.measurePsf.psfDeterminer.name = \"psfex\"\n",
    "charImageTask = CharacterizeImageTask(None, config=config)"
   ]
  },
  {
   "cell_type": "markdown",
   "metadata": {},
   "source": [
    "## Time to process some data"
   ]
  },
  {
   "cell_type": "markdown",
   "metadata": {},
   "source": [
    "#### Read the input data"
   ]
  },
  {
   "cell_type": "code",
   "execution_count": 90,
   "metadata": {},
   "outputs": [],
   "source": [
    "butler = dafPersist.Butler(\"/Users/naka.keigo/Desktop/integ/INTEGRATION/rerun/integration/arc/\")"
   ]
  },
  {
   "cell_type": "code",
   "execution_count": 91,
   "metadata": {},
   "outputs": [],
   "source": [
    "dataId = dict(visit=31)\n",
    "exposure = butler.get(\"calexp\", visit=31, arm=\"r\",spectrograph=1)\n",
    "dataRef=butler.dataRef(\"calexp\", visit=31, arm=\"r\", spectrograph=1)\n"
   ]
  },
  {
   "cell_type": "code",
   "execution_count": 92,
   "metadata": {},
   "outputs": [],
   "source": [
    "degrees = lsst.geom.degrees\n",
    "cdMatrix = np.array([[1.0e-4, 0.0], [0.0, 1.0e-4]], dtype=float)\n",
    "exposure.setWcs(lsst.afw.geom.makeSkyWcs(crval=lsst.geom.SpherePoint(0*degrees, 0*degrees),\n",
    "                                            crpix=lsst.geom.Point2D(0.0, 0.0),\n",
    "                                            cdMatrix=cdMatrix))"
   ]
  },
  {
   "cell_type": "code",
   "execution_count": 98,
   "metadata": {},
   "outputs": [
    {
     "data": {
      "application/vnd.jupyter.widget-view+json": {
       "model_id": "f4e55c2bd5cb47178e2fcdd71af10868",
       "version_major": 2,
       "version_minor": 0
      },
      "text/plain": [
       "FigureCanvasNbAgg()"
      ]
     },
     "metadata": {},
     "output_type": "display_data"
    }
   ],
   "source": [
    "%matplotlib ipympl\n",
    "\n",
    "#disp = afwDisplay.Display(reopenPlot=True)\n",
    "disp = afwDisplay.Display(reopenPlot=False, fastMaskDisplay=True)\n",
    "disp.scale('asinh', -20, 30, Q=8)\n",
    "disp.mtv(exposure, title=dataId)\n",
    "\n",
    "disp.zoom(8, 500, 1500);"
   ]
  },
  {
   "cell_type": "markdown",
   "metadata": {},
   "source": [
    "### Process the pixels\n",
    "\n",
    "##### Characterise the exposure (e.g. estimate the PSF)"
   ]
  },
  {
   "cell_type": "code",
   "execution_count": 59,
   "metadata": {},
   "outputs": [],
   "source": [
    "from lsst.obs.base import ExposureIdInfo\n",
    "result = charImageTask.detectMeasureAndEstimatePsf(exposure,ExposureIdInfo(), None)\n",
    "#psf = exposure.getPsf()"
   ]
  },
  {
   "cell_type": "code",
   "execution_count": 60,
   "metadata": {},
   "outputs": [],
   "source": [
    "#result = charImageTask.run(dataRef, exposure, doUnpersist=False)\n",
    "#result = charImageTask.run(exposure)"
   ]
  },
  {
   "cell_type": "code",
   "execution_count": 61,
   "metadata": {
    "jupyter": {
     "outputs_hidden": false
    }
   },
   "outputs": [],
   "source": [
    "maskedImage=exposure.getMaskedImage()\n",
    "psf = exposure.getPsf()\n",
    "w, h = exposure.getDimensions()"
   ]
  },
  {
   "cell_type": "code",
   "execution_count": 73,
   "metadata": {},
   "outputs": [
    {
     "data": {
      "application/vnd.jupyter.widget-view+json": {
       "model_id": "",
       "version_major": 2,
       "version_minor": 0
      },
      "text/plain": [
       "FigureCanvasNbAgg()"
      ]
     },
     "metadata": {},
     "output_type": "display_data"
    }
   ],
   "source": [
    "%matplotlib ipympl\n",
    "\n",
    "mos = afwDisplayUtils.Mosaic()\n",
    "\n",
    "for y in np.linspace(0, h, 10):\n",
    "    for x in np.linspace(0, w, 10):\n",
    "        im = psf.computeImage(afwGeom.PointD(x, y)).convertF()\n",
    "        mos.append(im)\n",
    "\n",
    "disp2 = afwDisplay.Display(2, reopenPlot=True)\n",
    "disp2.scale('asinh', 'zscale')\n",
    "mos.makeMosaic(display=disp2);"
   ]
  },
  {
   "cell_type": "code",
   "execution_count": 99,
   "metadata": {},
   "outputs": [
    {
     "data": {
      "text/plain": [
       "<matplotlib.image.AxesImage at 0x17069fda0>"
      ]
     },
     "execution_count": 99,
     "metadata": {},
     "output_type": "execute_result"
    }
   ],
   "source": [
    "from scipy.ndimage import label\n",
    "\n",
    "mask1=exposure.getMask().array\n",
    "mask2=(mask1==32) *mask1\n",
    "\n",
    "values = np.unique(mask2.ravel())\n",
    "result = np.zeros_like(mask2)\n",
    "offset = 0\n",
    "\n",
    "for v in values:\n",
    "    labeled, num_features = label(mask2 == v)\n",
    "    result += labeled + offset*(labeled > 0)\n",
    "    offset += num_features\n",
    "\n",
    "plt.imshow(result)"
   ]
  },
  {
   "cell_type": "code",
   "execution_count": 89,
   "metadata": {
    "scrolled": false
   },
   "outputs": [
    {
     "name": "stdout",
     "output_type": "stream",
     "text": [
      "424 2015\n"
     ]
    },
    {
     "data": {
      "application/vnd.jupyter.widget-view+json": {
       "model_id": "",
       "version_major": 2,
       "version_minor": 0
      },
      "text/plain": [
       "FigureCanvasNbAgg()"
      ]
     },
     "metadata": {},
     "output_type": "display_data"
    },
    {
     "data": {
      "application/vnd.jupyter.widget-view+json": {
       "model_id": "",
       "version_major": 2,
       "version_minor": 0
      },
      "text/plain": [
       "FigureCanvasNbAgg()"
      ]
     },
     "metadata": {},
     "output_type": "display_data"
    },
    {
     "data": {
      "application/vnd.jupyter.widget-view+json": {
       "model_id": "",
       "version_major": 2,
       "version_minor": 0
      },
      "text/plain": [
       "FigureCanvasNbAgg()"
      ]
     },
     "metadata": {},
     "output_type": "display_data"
    },
    {
     "data": {
      "text/plain": [
       "<matplotlib.image.AxesImage at 0x16e82b3c8>"
      ]
     },
     "execution_count": 89,
     "metadata": {},
     "output_type": "execute_result"
    }
   ],
   "source": [
    "i=82\n",
    "\n",
    "py = int(round(np.where(result==i)[1].mean()))\n",
    "px= int(round(np.where(result==i)[0].mean()))\n",
    "\n",
    "print(px,py)\n",
    "\n",
    "\n",
    "box=exposure.getImage().array[px-20:px+21,py-20:py+21]\n",
    "psfplt= psf.computeImage(afwGeom.PointD(py, px)).convertF()\n",
    "\n",
    "normbox = (box)/box.max()\n",
    "normpsf = (psfplt.array)/psfplt.array.max()\n",
    "\n",
    "sigma = np.sqrt((normbox-normpsf)* (normbox-normpsf))\n",
    "\n",
    "    #normbox = (box-box.min())/(box.max()-box.min())\n",
    "    #normpsf = (psfplt.array-psfplt.array.min())/(psfplt.array.max()-psfplt.array.min())\n",
    "\n",
    "    #print(normbox)\n",
    "    #print(normpsf)\n",
    "\n",
    "\n",
    "plt.figure(figsize=(6,5))\n",
    "#plt.imshow(box, origin='lower', extent=tlim+flim, aspect='auto')\n",
    "plt.imshow(psfplt.array,extent=tlim+flim,)\n",
    "\n",
    "plt.figure(figsize=(6,5))\n",
    "#plt.imshow(box, origin='lower', extent=tlim+flim, aspect='auto')\n",
    "plt.imshow(box,extent=tlim+flim,)\n",
    "\n",
    "plt.figure(figsize=(6,5))\n",
    "plt.imshow(sigma, extent=tlim+flim)\n"
   ]
  },
  {
   "cell_type": "markdown",
   "metadata": {},
   "source": []
  },
  {
   "cell_type": "code",
   "execution_count": 85,
   "metadata": {},
   "outputs": [
    {
     "data": {
      "application/vnd.jupyter.widget-view+json": {
       "model_id": "",
       "version_major": 2,
       "version_minor": 0
      },
      "text/plain": [
       "FigureCanvasNbAgg()"
      ]
     },
     "metadata": {},
     "output_type": "display_data"
    },
    {
     "data": {
      "application/vnd.jupyter.widget-view+json": {
       "model_id": "",
       "version_major": 2,
       "version_minor": 0
      },
      "text/plain": [
       "FigureCanvasNbAgg()"
      ]
     },
     "metadata": {},
     "output_type": "display_data"
    },
    {
     "data": {
      "text/plain": [
       "[<matplotlib.lines.Line2D at 0x162bdd0b8>]"
      ]
     },
     "execution_count": 85,
     "metadata": {},
     "output_type": "execute_result"
    }
   ],
   "source": [
    "import matplotlib.gridspec as gridspe\n",
    "\n",
    "plt.figure(figsize=(6,5))\n",
    "plt.plot(normpsf.mean(1))\n",
    "plt.plot(normbox.mean(1))\n",
    "\n",
    "plt.figure(figsize=(6,5))\n",
    "plt.plot(normpsf.mean(0))\n",
    "plt.plot(normbox.mean(0))\n"
   ]
  },
  {
   "cell_type": "code",
   "execution_count": 71,
   "metadata": {
    "scrolled": false
   },
   "outputs": [
    {
     "data": {
      "application/vnd.jupyter.widget-view+json": {
       "model_id": "",
       "version_major": 2,
       "version_minor": 0
      },
      "text/plain": [
       "FigureCanvasNbAgg()"
      ]
     },
     "metadata": {},
     "output_type": "display_data"
    },
    {
     "ename": "KeyboardInterrupt",
     "evalue": "",
     "output_type": "error",
     "traceback": [
      "\u001b[0;31m---------------------------------------------------------------------------\u001b[0m",
      "\u001b[0;31mKeyboardInterrupt\u001b[0m                         Traceback (most recent call last)",
      "\u001b[0;32m<ipython-input-71-8510cfd6d6ca>\u001b[0m in \u001b[0;36m<module>\u001b[0;34m\u001b[0m\n\u001b[1;32m     15\u001b[0m \u001b[0;34m\u001b[0m\u001b[0m\n\u001b[1;32m     16\u001b[0m     \u001b[0mlengthx\u001b[0m\u001b[0;34m=\u001b[0m\u001b[0mnp\u001b[0m\u001b[0;34m.\u001b[0m\u001b[0mwhere\u001b[0m\u001b[0;34m(\u001b[0m\u001b[0mresult\u001b[0m\u001b[0;34m==\u001b[0m\u001b[0mi\u001b[0m\u001b[0;34m)\u001b[0m\u001b[0;34m[\u001b[0m\u001b[0;36m0\u001b[0m\u001b[0;34m]\u001b[0m\u001b[0;34m.\u001b[0m\u001b[0mmax\u001b[0m\u001b[0;34m(\u001b[0m\u001b[0;34m)\u001b[0m\u001b[0;34m-\u001b[0m\u001b[0mnp\u001b[0m\u001b[0;34m.\u001b[0m\u001b[0mwhere\u001b[0m\u001b[0;34m(\u001b[0m\u001b[0mresult\u001b[0m\u001b[0;34m==\u001b[0m\u001b[0mi\u001b[0m\u001b[0;34m)\u001b[0m\u001b[0;34m[\u001b[0m\u001b[0;36m0\u001b[0m\u001b[0;34m]\u001b[0m\u001b[0;34m.\u001b[0m\u001b[0mmin\u001b[0m\u001b[0;34m(\u001b[0m\u001b[0;34m)\u001b[0m\u001b[0;34m\u001b[0m\u001b[0m\n\u001b[0;32m---> 17\u001b[0;31m     \u001b[0mlengthy\u001b[0m\u001b[0;34m=\u001b[0m\u001b[0mnp\u001b[0m\u001b[0;34m.\u001b[0m\u001b[0mwhere\u001b[0m\u001b[0;34m(\u001b[0m\u001b[0mresult\u001b[0m\u001b[0;34m==\u001b[0m\u001b[0mi\u001b[0m\u001b[0;34m)\u001b[0m\u001b[0;34m[\u001b[0m\u001b[0;36m1\u001b[0m\u001b[0;34m]\u001b[0m\u001b[0;34m.\u001b[0m\u001b[0mmax\u001b[0m\u001b[0;34m(\u001b[0m\u001b[0;34m)\u001b[0m\u001b[0;34m-\u001b[0m\u001b[0mnp\u001b[0m\u001b[0;34m.\u001b[0m\u001b[0mwhere\u001b[0m\u001b[0;34m(\u001b[0m\u001b[0mresult\u001b[0m\u001b[0;34m==\u001b[0m\u001b[0mi\u001b[0m\u001b[0;34m)\u001b[0m\u001b[0;34m[\u001b[0m\u001b[0;36m1\u001b[0m\u001b[0;34m]\u001b[0m\u001b[0;34m.\u001b[0m\u001b[0mmin\u001b[0m\u001b[0;34m(\u001b[0m\u001b[0;34m)\u001b[0m\u001b[0;34m\u001b[0m\u001b[0m\n\u001b[0m\u001b[1;32m     18\u001b[0m \u001b[0;34m\u001b[0m\u001b[0m\n\u001b[1;32m     19\u001b[0m \u001b[0;34m\u001b[0m\u001b[0m\n",
      "\u001b[0;31mKeyboardInterrupt\u001b[0m: "
     ]
    }
   ],
   "source": [
    "plt.figure(figsize=(6,5))\n",
    "#plt.xlim(-0.05,0.05)\n",
    "\n",
    "px = []\n",
    "py = []\n",
    "sigma = []\n",
    "\n",
    "for i in range(32,offset): \n",
    "#for i in range(32,202): \n",
    "    py.append(int(round(np.where(result==i)[1].mean())))\n",
    "    px.append(int(round(np.where(result==i)[0].mean())))\n",
    "\n",
    "    iy = int(np.where(result==i)[1].mean())\n",
    "    ix = int(np.where(result==i)[0].mean())\n",
    "\n",
    "    lengthx=np.where(result==i)[0].max()-np.where(result==i)[0].min()\n",
    "    lengthy=np.where(result==i)[1].max()-np.where(result==i)[1].min()\n",
    "\n",
    "\n",
    "    #print(i, lengthx,lengthy)\n",
    "    \n",
    "    box=exposure.getImage().array[ix-20:ix+21,iy-20:iy+21]\n",
    "    psfplt= psf.computeImage(afwGeom.PointD(iy, ix)).convertF()\n",
    "\n",
    "    normbox = (box)/box.max()\n",
    "    normpsf = (psfplt.array)/psfplt.array.max()\n",
    "\n",
    "    #normbox = (box-box.min())/(box.max()-box.min())\n",
    "    #normpsf = (psfplt.array-psfplt.array.min())/(psfplt.array.max()-psfplt.array.min())\n",
    "    \n",
    "    if lengthx > 15 or lengthy>15:\n",
    "        sigma.append(0)\n",
    "        #print(\"failed\")\n",
    "        continue\n",
    "    else:\n",
    "         sigma.append(np.sqrt((normbox-normpsf)* (normbox-normpsf)).mean())\n",
    "\n",
    "\n",
    "    \n",
    "plt.scatter(py, px, c=sigma, cmap='Blues')    \n",
    "plt.colorbar()"
   ]
  },
  {
   "cell_type": "code",
   "execution_count": 564,
   "metadata": {
    "scrolled": false
   },
   "outputs": [
    {
     "data": {
      "application/vnd.jupyter.widget-view+json": {
       "model_id": "459d87a4266745e08d8cc7dc9280d48b",
       "version_major": 2,
       "version_minor": 0
      },
      "text/plain": [
       "FigureCanvasNbAgg()"
      ]
     },
     "metadata": {},
     "output_type": "display_data"
    },
    {
     "data": {
      "text/plain": [
       "(array([ 121.,    4.,    4.,   15.,   17.,   25.,   27.,   34.,   28.,\n",
       "          19.,   12.,   13.,   15.,    8.,   13.,   13.,   12.,    9.,\n",
       "           8.,    7.,    8.,   10.,    6.,   12.,   12.,    9.,    8.,\n",
       "          13.,    5.,    7.,    6.,    5.,    9.,    2.,    1.,    3.,\n",
       "           2.,    0.,    1.,    4.]),\n",
       " array([ 0.        ,  0.000549  ,  0.001098  ,  0.001647  ,  0.00219599,\n",
       "         0.00274499,  0.00329399,  0.00384299,  0.00439199,  0.00494099,\n",
       "         0.00548998,  0.00603898,  0.00658798,  0.00713698,  0.00768598,\n",
       "         0.00823498,  0.00878397,  0.00933297,  0.00988197,  0.01043097,\n",
       "         0.01097997,  0.01152897,  0.01207796,  0.01262696,  0.01317596,\n",
       "         0.01372496,  0.01427396,  0.01482296,  0.01537195,  0.01592095,\n",
       "         0.01646995,  0.01701895,  0.01756795,  0.01811695,  0.01866594,\n",
       "         0.01921494,  0.01976394,  0.02031294,  0.02086194,  0.02141094,\n",
       "         0.02195993]),\n",
       " <a list of 40 Patch objects>)"
      ]
     },
     "execution_count": 564,
     "metadata": {},
     "output_type": "execute_result"
    }
   ],
   "source": [
    "plt.figure(figsize=(6,5))\n",
    "plt.hist(sigma,40)    "
   ]
  },
  {
   "cell_type": "code",
   "execution_count": null,
   "metadata": {},
   "outputs": [],
   "source": []
  },
  {
   "cell_type": "code",
   "execution_count": null,
   "metadata": {},
   "outputs": [],
   "source": []
  }
 ],
 "metadata": {
  "anaconda-cloud": {},
  "kernelspec": {
   "display_name": "Python 3",
   "language": "python",
   "name": "python3"
  },
  "language_info": {
   "codemirror_mode": {
    "name": "ipython",
    "version": 3
   },
   "file_extension": ".py",
   "mimetype": "text/x-python",
   "name": "python",
   "nbconvert_exporter": "python",
   "pygments_lexer": "ipython3",
   "version": "3.6.2"
  }
 },
 "nbformat": 4,
 "nbformat_minor": 4
}
