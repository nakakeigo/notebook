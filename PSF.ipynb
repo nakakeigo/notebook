{
 "cells": [
  {
   "cell_type": "code",
   "execution_count": 1,
   "metadata": {
    "jupyter": {
     "outputs_hidden": false
    }
   },
   "outputs": [],
   "source": [
    "import numpy as np\n",
    "\n",
    "%matplotlib ipympl\n",
    "%matplotlib inline\n",
    "import matplotlib.pyplot as plt\n",
    "from astropy.table import Table"
   ]
  },
  {
   "cell_type": "markdown",
   "metadata": {},
   "source": [
    "I don't understand why you need to run this command twice to get an interactive matplotlib display"
   ]
  },
  {
   "cell_type": "code",
   "execution_count": 2,
   "metadata": {},
   "outputs": [],
   "source": [
    "%matplotlib ipympl"
   ]
  },
  {
   "cell_type": "code",
   "execution_count": 3,
   "metadata": {},
   "outputs": [
    {
     "name": "stderr",
     "output_type": "stream",
     "text": [
      "/Users/naka.keigo/lsst_stack/python/miniconda3-4.3.21/lib/python3.6/site-packages/matplotlib/__init__.py:1405: UserWarning: \n",
      "This call to matplotlib.use() has no effect because the backend has already\n",
      "been chosen; matplotlib.use() must be called *before* pylab, matplotlib.pyplot,\n",
      "or matplotlib.backends is imported for the first time.\n",
      "\n",
      "  warnings.warn(_use_error_msg)\n"
     ]
    }
   ],
   "source": [
    "import lsst.daf.persistence        as dafPersist\n",
    "import lsst.afw.geom               as afwGeom\n",
    "from matplotlib.colors import LogNorm\n",
    "import lsst.afw.table              as afwTable\n",
    "import lsst.meas.extensions.psfex.psfexPsfDeterminer\n",
    "\n",
    "import lsst.afw.display            as afwDisplay\n",
    "import lsst.afw.display.utils as afwDisplayUtils"
   ]
  },
  {
   "cell_type": "markdown",
   "metadata": {},
   "source": [
    "#### Load the high-level \"tasks\" that process the pixels"
   ]
  },
  {
   "cell_type": "code",
   "execution_count": 4,
   "metadata": {},
   "outputs": [],
   "source": [
    "from lsst.pipe.tasks.characterizeImage import CharacterizeImageTask"
   ]
  },
  {
   "cell_type": "markdown",
   "metadata": {},
   "source": [
    "#### Setup the displays (by default an interface to ds9, which won't work in the LSP)"
   ]
  },
  {
   "cell_type": "code",
   "execution_count": 5,
   "metadata": {},
   "outputs": [],
   "source": [
    "afwDisplay.setDefaultBackend(\"matplotlib\")"
   ]
  },
  {
   "cell_type": "markdown",
   "metadata": {},
   "source": [
    "## Create the task"
   ]
  },
  {
   "cell_type": "code",
   "execution_count": 6,
   "metadata": {},
   "outputs": [],
   "source": [
    "config = CharacterizeImageTask.ConfigClass()\n",
    "config.psfIterations = 1\n",
    "config.measurePsf.psfDeterminer.name = \"psfex\"\n",
    "config.measurePsf.psfDeterminer[\"psfex\"].samplingSize = 1.0\n",
    "config.measurePsf.psfDeterminer[\"psfex\"].spatialOrder = 3\n",
    "#print(config.measurePsf.psfDeterminer[\"psfex\"])\n",
    "charImageTask = CharacterizeImageTask(None, config=config)"
   ]
  },
  {
   "cell_type": "markdown",
   "metadata": {},
   "source": [
    "## Time to process some data"
   ]
  },
  {
   "cell_type": "markdown",
   "metadata": {},
   "source": [
    "#### Read the input data"
   ]
  },
  {
   "cell_type": "code",
   "execution_count": 7,
   "metadata": {},
   "outputs": [],
   "source": [
    "butler = dafPersist.Butler(\"/Users/naka.keigo/Desktop/integ/INTEGRATION/rerun/integration/arc/\")"
   ]
  },
  {
   "cell_type": "code",
   "execution_count": 8,
   "metadata": {},
   "outputs": [],
   "source": [
    "dataId = dict(visit=31)\n",
    "exposure = butler.get(\"calexp\", visit=31, arm=\"r\",spectrograph=1)\n",
    "dataRef=butler.dataRef(\"calexp\", visit=31, arm=\"r\", spectrograph=1)"
   ]
  },
  {
   "cell_type": "code",
   "execution_count": 9,
   "metadata": {},
   "outputs": [],
   "source": [
    "degrees = lsst.geom.degrees\n",
    "cdMatrix = np.array([[1.0e-4, 0.0], [0.0, 1.0e-4]], dtype=float)\n",
    "exposure.setWcs(lsst.afw.geom.makeSkyWcs(crval=lsst.geom.SpherePoint(0*degrees, 0*degrees),\n",
    "                                            crpix=lsst.geom.Point2D(0.0, 0.0),\n",
    "                                            cdMatrix=cdMatrix))"
   ]
  },
  {
   "cell_type": "code",
   "execution_count": 10,
   "metadata": {},
   "outputs": [
    {
     "data": {
      "application/vnd.jupyter.widget-view+json": {
       "model_id": "",
       "version_major": 2,
       "version_minor": 0
      },
      "text/plain": [
       "FigureCanvasNbAgg()"
      ]
     },
     "metadata": {},
     "output_type": "display_data"
    }
   ],
   "source": [
    "%matplotlib ipympl\n",
    "\n",
    "#disp = afwDisplay.Display(reopenPlot=True)\n",
    "disp = afwDisplay.Display(reopenPlot=False, fastMaskDisplay=True)\n",
    "disp.scale('asinh', -20, 30, Q=8)\n",
    "disp.mtv(exposure, title=dataId)\n",
    "\n",
    "disp.zoom(8, 500, 1500);"
   ]
  },
  {
   "cell_type": "markdown",
   "metadata": {},
   "source": [
    "### Process the pixels\n",
    "\n",
    "##### Characterise the exposure (e.g. estimate the PSF)"
   ]
  },
  {
   "cell_type": "code",
   "execution_count": 11,
   "metadata": {},
   "outputs": [],
   "source": [
    "from lsst.obs.base import ExposureIdInfo\n",
    "result = charImageTask.detectMeasureAndEstimatePsf(exposure,ExposureIdInfo(), None)"
   ]
  },
  {
   "cell_type": "code",
   "execution_count": 12,
   "metadata": {},
   "outputs": [
    {
     "data": {
      "text/plain": [
       "-0.011891423"
      ]
     },
     "execution_count": 12,
     "metadata": {},
     "output_type": "execute_result"
    }
   ],
   "source": [
    "np.median(result.background.getImage().array)"
   ]
  },
  {
   "cell_type": "code",
   "execution_count": 13,
   "metadata": {},
   "outputs": [],
   "source": [
    "#result = charImageTask.run(dataRef, exposure, doUnpersist=False)\n",
    "#result = charImageTask.run(exposure)"
   ]
  },
  {
   "cell_type": "code",
   "execution_count": 14,
   "metadata": {},
   "outputs": [],
   "source": [
    "for s in result.sourceCat:\n",
    "    disp.dot('+', *s.getCentroid(), ctype='RED')"
   ]
  },
  {
   "cell_type": "code",
   "execution_count": 15,
   "metadata": {
    "jupyter": {
     "outputs_hidden": false
    }
   },
   "outputs": [],
   "source": [
    "maskedImage=exposure.getMaskedImage()\n",
    "psf = exposure.getPsf()\n",
    "w, h = exposure.getDimensions()"
   ]
  },
  {
   "cell_type": "code",
   "execution_count": 16,
   "metadata": {},
   "outputs": [
    {
     "data": {
      "application/vnd.jupyter.widget-view+json": {
       "model_id": "b3334de0138448d6bd89a39ff552c49e",
       "version_major": 2,
       "version_minor": 0
      },
      "text/plain": [
       "FigureCanvasNbAgg()"
      ]
     },
     "metadata": {},
     "output_type": "display_data"
    }
   ],
   "source": [
    "%matplotlib ipympl\n",
    "\n",
    "mos = afwDisplayUtils.Mosaic()\n",
    "\n",
    "for y in np.linspace(0, h, 10):\n",
    "    for x in np.linspace(0, w, 10):\n",
    "        im = psf.computeImage(afwGeom.PointD(x, y)).convertF()\n",
    "        mos.append(im)\n",
    "\n",
    "disp2 = afwDisplay.Display(2, reopenPlot=True)\n",
    "disp2.scale('asinh', 'zscale')\n",
    "mos.makeMosaic(display=disp2);"
   ]
  },
  {
   "cell_type": "code",
   "execution_count": null,
   "metadata": {},
   "outputs": [],
   "source": []
  },
  {
   "cell_type": "code",
   "execution_count": 36,
   "metadata": {
    "scrolled": false
   },
   "outputs": [
    {
     "name": "stdout",
     "output_type": "stream",
     "text": [
      "RHL 4.2754\n"
     ]
    },
    {
     "data": {
      "application/vnd.jupyter.widget-view+json": {
       "model_id": "29242ba5a737441c96a0f1d42ba3c116",
       "version_major": 2,
       "version_minor": 0
      },
      "text/plain": [
       "FigureCanvasNbAgg()"
      ]
     },
     "metadata": {},
     "output_type": "display_data"
    },
    {
     "data": {
      "application/vnd.jupyter.widget-view+json": {
       "model_id": "178576186750456088c968f5cd850db1",
       "version_major": 2,
       "version_minor": 0
      },
      "text/plain": [
       "FigureCanvasNbAgg()"
      ]
     },
     "metadata": {},
     "output_type": "display_data"
    },
    {
     "data": {
      "application/vnd.jupyter.widget-view+json": {
       "model_id": "b32a44c9be31449bbcdb2c85921e51f8",
       "version_major": 2,
       "version_minor": 0
      },
      "text/plain": [
       "FigureCanvasNbAgg()"
      ]
     },
     "metadata": {},
     "output_type": "display_data"
    },
    {
     "data": {
      "application/vnd.jupyter.widget-view+json": {
       "model_id": "745f128dcd58472d865a445c76f5f4d7",
       "version_major": 2,
       "version_minor": 0
      },
      "text/plain": [
       "FigureCanvasNbAgg()"
      ]
     },
     "metadata": {},
     "output_type": "display_data"
    },
    {
     "data": {
      "application/vnd.jupyter.widget-view+json": {
       "model_id": "f1ebc04127214317891eb57faa74499f",
       "version_major": 2,
       "version_minor": 0
      },
      "text/plain": [
       "FigureCanvasNbAgg()"
      ]
     },
     "metadata": {},
     "output_type": "display_data"
    },
    {
     "data": {
      "text/plain": [
       "<matplotlib.text.Text at 0x16dc437f0>"
      ]
     },
     "execution_count": 36,
     "metadata": {},
     "output_type": "execute_result"
    }
   ],
   "source": [
    "###Analysis\n",
    "s = result.sourceCat[50]\n",
    "    \n",
    "im = psf.computeImage(s.getCentroid())\n",
    "box=exposure.getImage()[im.getBBox()] # .convertF()\n",
    "psfplt= psf.computeImage(afwGeom.PointD(s.getCentroid())).convertF()\n",
    "\n",
    "print(\"RHL\", np.median(exposure.variance[im.getBBox()].array))\n",
    "\n",
    "#Normalized by Area\n",
    "\n",
    "normbox = (box.array)\n",
    "normpsf = psfplt.array*s.getApFlux()\n",
    "\n",
    "#box20=normbox[10:30,10:30]\n",
    "#psf20=normpsf[10:30,10:30]\n",
    "\n",
    "#var_20 = np.abs(normbox)+20\n",
    "var_20 = exposure.variance[im.getBBox()].array\n",
    "\n",
    "plt.figure(figsize=(6,5))\n",
    "plt.imshow(normbox,origin='lower')\n",
    "plt.colorbar()\n",
    "\n",
    "plt.figure(figsize=(6,5))\n",
    "plt.imshow(exposure.variance[im.getBBox()].array ,origin='lower')\n",
    "plt.colorbar()\n",
    "\n",
    "plt.figure(figsize=(6,5))\n",
    "plt.imshow(normbox,origin='lower')\n",
    "plt.colorbar()\n",
    "\n",
    "plt.figure(figsize=(6,5))\n",
    "plt.imshow((normbox-normpsf)/np.sqrt(var_20),origin='lower',cmap='bwr')\n",
    "plt.colorbar()\n",
    "plt.title(r\"$\\chi$\")\n",
    "\n",
    "plt.figure(figsize=(6,5))\n",
    "plt.imshow((normbox-normpsf) - np.median((normbox-normpsf)),origin='lower',cmap='bwr')\n",
    "plt.colorbar()\n",
    "plt.title(r\"residual data - model - background\")\n",
    "\n",
    "\n",
    "#init_lamda,std_init_lamda,init_removal_lamda,std_init_removal_lamda = residual_1D(box20, psf20, var_20)"
   ]
  },
  {
   "cell_type": "code",
   "execution_count": 19,
   "metadata": {},
   "outputs": [
    {
     "data": {
      "text/plain": [
       "1.5872134105924476"
      ]
     },
     "execution_count": 19,
     "metadata": {},
     "output_type": "execute_result"
    }
   ],
   "source": [
    "shape = psf.computeShape()\n",
    "shape.getIxx()"
   ]
  },
  {
   "cell_type": "code",
   "execution_count": 20,
   "metadata": {},
   "outputs": [
    {
     "data": {
      "text/plain": [
       "[1.24, 1.24, 1.27, 1.18, 1.26, 1.2, 1.24, 1.26]"
      ]
     },
     "execution_count": 20,
     "metadata": {},
     "output_type": "execute_result"
    }
   ],
   "source": [
    "[a.getGain() for a in exposure.getDetector()]"
   ]
  },
  {
   "cell_type": "code",
   "execution_count": 21,
   "metadata": {
    "scrolled": false
   },
   "outputs": [
    {
     "ename": "NameError",
     "evalue": "name 'box20' is not defined",
     "output_type": "error",
     "traceback": [
      "\u001b[0;31m---------------------------------------------------------------------------\u001b[0m",
      "\u001b[0;31mNameError\u001b[0m                                 Traceback (most recent call last)",
      "\u001b[0;32m<ipython-input-21-4ee9679cfee5>\u001b[0m in \u001b[0;36m<module>\u001b[0;34m\u001b[0m\n\u001b[0;32m----> 1\u001b[0;31m \u001b[0msci_image_smaller\u001b[0m\u001b[0;34m=\u001b[0m\u001b[0mbox20\u001b[0m\u001b[0;34m[\u001b[0m\u001b[0;34m:\u001b[0m\u001b[0;34m,\u001b[0m\u001b[0;36m6\u001b[0m\u001b[0;34m:\u001b[0m\u001b[0;36m13\u001b[0m\u001b[0;34m]\u001b[0m\u001b[0;34m\u001b[0m\u001b[0m\n\u001b[0m\u001b[1;32m      2\u001b[0m \u001b[0mvar_image_smaller\u001b[0m\u001b[0;34m=\u001b[0m\u001b[0mpsf20\u001b[0m\u001b[0;34m[\u001b[0m\u001b[0;34m:\u001b[0m\u001b[0;34m,\u001b[0m\u001b[0;36m6\u001b[0m\u001b[0;34m:\u001b[0m\u001b[0;36m13\u001b[0m\u001b[0;34m]\u001b[0m\u001b[0;34m\u001b[0m\u001b[0m\n\u001b[1;32m      3\u001b[0m \u001b[0mresidual_initial_smaller\u001b[0m\u001b[0;34m=\u001b[0m\u001b[0msci_image_smaller\u001b[0m\u001b[0;34m-\u001b[0m\u001b[0mvar_image_smaller\u001b[0m\u001b[0;34m\u001b[0m\u001b[0m\n\u001b[1;32m      4\u001b[0m \u001b[0;34m\u001b[0m\u001b[0m\n\u001b[1;32m      5\u001b[0m \u001b[0msci_inputimage_smaller\u001b[0m\u001b[0;34m=\u001b[0m\u001b[0msci_image_smaller\u001b[0m\u001b[0;34m\u001b[0m\u001b[0m\n",
      "\u001b[0;31mNameError\u001b[0m: name 'box20' is not defined"
     ]
    }
   ],
   "source": [
    "sci_image_smaller=box20[:,6:13]\n",
    "var_image_smaller=psf20[:,6:13]\n",
    "residual_initial_smaller=sci_image_smaller-var_image_smaller\n",
    "\n",
    "sci_inputimage_smaller=sci_image_smaller\n",
    "Px=np.sum(sci_inputimage_smaller,axis=0)/np.sum(sci_inputimage_smaller)\n",
    "var_inputimage_smaller=var_image_smaller\n",
    "Pv=np.sum(var_inputimage_smaller,axis=0)/np.sum(var_inputimage_smaller)\n",
    "   \n",
    "# nominator\n",
    "weighted_inputimage_smaller=sci_inputimage_smaller*Px/(1)\n",
    "weighted_varimage_smaller=var_inputimage_smaller*Pv/(1)\n",
    "# denominator\n",
    "weights_array=np.ones((sci_inputimage_smaller.shape[0],sci_inputimage_smaller.shape[1]))*Px**2\n",
    "weights_vararray=np.ones((var_inputimage_smaller.shape[0],var_inputimage_smaller.shape[1]))*Pv**2\n",
    "\n",
    "init_lamda=np.array(list(map(np.sum, weighted_inputimage_smaller)))/(np.array(list(map(np.sum,weights_array))))\n",
    "init_lamda_boxcar=np.array(list(map(np.sum, sci_inputimage_smaller)))\n",
    "\n",
    "init_varlamda=np.array(list(map(np.sum, weighted_varimage_smaller)))/(np.array(list(map(np.sum,weights_vararray))))\n",
    "init_varlamda_boxcar=np.array(list(map(np.sum, var_inputimage_smaller)))\n",
    "\n",
    "# Equation 8.5 from Horne\n",
    "var_f_std_lamda=1/np.abs(np.sum(np.array(Px**2/(var_inputimage_smaller)),axis=1))\n",
    "std_init_lamda=np.sqrt(var_f_std_lamda)\n",
    "std_init_lamda_boxcar=np.sqrt(np.abs(np.array(list(map(np.sum, var_inputimage_smaller)))))\n",
    "\n",
    "#################################\n",
    "# Equation 8 from Horne with modification from Robert abut variance for initial removal\n",
    "# note that this uses profile from full thing, and not \"residual profile\"\n",
    "\n",
    "# nominator\n",
    "weighted_inputimage_smaller=residual_initial_smaller*Px/(1)\n",
    "# denominator\n",
    "weights_array=np.ones((residual_initial_smaller.shape[0],residual_initial_smaller.shape[1]))*Px**2\n",
    "\n",
    "init_removal_lamda=np.array(list(map(np.sum, weighted_inputimage_smaller)))/(np.array(list(map(np.sum,weights_array))))\n",
    "init_removal_lamda_boxcar=np.array(list(map(np.sum, residual_initial_smaller)))\n",
    "# Equation 8.5 from Horne\n",
    "var_init_removal_lamda=1/np.abs(np.sum(np.array(Px**2/(var_inputimage_smaller)),axis=1))\n",
    "std_init_removal_lamda=np.sqrt(var_init_removal_lamda)\n",
    "#return init_lamda,std_init_lamda,init_removal_lamda,std_init_removal_lamda\n",
    "\n"
   ]
  },
  {
   "cell_type": "code",
   "execution_count": 518,
   "metadata": {
    "scrolled": false
   },
   "outputs": [
    {
     "data": {
      "application/vnd.jupyter.widget-view+json": {
       "model_id": "",
       "version_major": 2,
       "version_minor": 0
      },
      "text/plain": [
       "FigureCanvasNbAgg()"
      ]
     },
     "metadata": {},
     "output_type": "display_data"
    },
    {
     "name": "stderr",
     "output_type": "stream",
     "text": [
      "/Users/naka.keigo/lsst_stack/python/miniconda3-4.3.21/lib/python3.6/site-packages/ipykernel_launcher.py:17: RuntimeWarning: invalid value encountered in sqrt\n"
     ]
    },
    {
     "data": {
      "text/plain": [
       "<matplotlib.patches.Polygon at 0x30da10cf8>"
      ]
     },
     "execution_count": 518,
     "metadata": {},
     "output_type": "execute_result"
    }
   ],
   "source": [
    "plt.figure(figsize=(10,10))\n",
    "plt.errorbar(np.array(range(len(init_lamda)))-0.15,init_lamda,yerr=std_init_lamda,fmt='o',elinewidth=2,capsize=12,markeredgewidth=2,label='data',color='orange')\n",
    "plt.errorbar(np.array(range(len(init_removal_lamda)))-0.15,init_removal_lamda,yerr=std_init_removal_lamda,color='red',fmt='o',elinewidth=2,capsize=10,markeredgewidth=2,label='residual')\n",
    "plt.legend(loc=2, fontsize=22)\n",
    "plt.plot(np.zeros(20),'--')\n",
    "plt.ylim(-5000,5000)\n",
    "plt.ylabel('flux',size=25)\n",
    "plt.xlabel('pixel',size=25)\n",
    "plt.xticks(range(20))\n",
    "\n",
    "for i in range(20):\n",
    "   plt.text(-0.8+i, -1250, str(\"{:1.0f}\".format(init_lamda[i])), fontsize=20,rotation=60.,color='orange')\n",
    "    \n",
    "for i in range(20):\n",
    "    plt.text(-0.8+i, -2050, str(\"{:1.1f}\".format(init_removal_lamda[i]/std_init_removal_lamda[i])), fontsize=20,rotation=60.,color='red')\n",
    "\n",
    "sci_image_40000,var_image_40000,res_iapetus_40000=add_artificial_noise(box20,var_20, psf20)\n",
    "init_lamda,std_init_lamda,init_removal_lamda,std_init_removal_lamda=residual_1D(sci_image_40000,var_image_40000,res_iapetus_40000)\n",
    "\n",
    "position_of_max_flux=np.where(init_lamda==np.max(init_lamda))[0][0]\n",
    "difference_from_max=range(40)-position_of_max_flux\n",
    "pixels_to_test=np.array(range(40))[(np.abs(difference_from_max)>2)&(np.abs(difference_from_max)<=6)]\n",
    "Q=np.mean(np.abs(init_removal_lamda[pixels_to_test]/std_init_removal_lamda[pixels_to_test]))\n",
    "\n",
    "plt.text(19.5,2300, 'Q='+str(\"{:1.2f}\".format(Q)), horizontalalignment='right', verticalalignment='top',fontsize=26)\n",
    "\n",
    "chi2=np.mean((psf20-box20)**2/var_20)\n",
    "\n",
    "plt.text(19.5,2000, '$\\chi^{2}$='+str(\"{:1.2f}\".format(chi2)), horizontalalignment='right', verticalalignment='top',fontsize=26)\n",
    "\n",
    "chi2_40000=np.mean((res_iapetus_40000-sci_image_40000)**2/var_image_40000)\n",
    "\n",
    "plt.text(19.5,1700, '$\\chi^{2}_{40000}$='+str(\"{:1.2f}\".format(chi2_40000)), horizontalalignment='right', verticalalignment='top',fontsize=26)\n",
    "\n",
    "\n",
    "plt.axvspan(pixels_to_test[0]-0.5, pixels_to_test[3]+0.5, alpha=0.3, color='grey')\n",
    "plt.axvspan(pixels_to_test[4]-0.5, pixels_to_test[7]+0.5, alpha=0.3, color='grey')"
   ]
  },
  {
   "cell_type": "code",
   "execution_count": 389,
   "metadata": {
    "scrolled": true
   },
   "outputs": [
    {
     "data": {
      "application/vnd.jupyter.widget-view+json": {
       "model_id": "0d19ea4f324e450db413c5a7d03f61cd",
       "version_major": 2,
       "version_minor": 0
      },
      "text/plain": [
       "FigureCanvasNbAgg()"
      ]
     },
     "metadata": {},
     "output_type": "display_data"
    },
    {
     "data": {
      "application/vnd.jupyter.widget-view+json": {
       "model_id": "9471040cdddc4743b28f9b853672f0ae",
       "version_major": 2,
       "version_minor": 0
      },
      "text/plain": [
       "FigureCanvasNbAgg()"
      ]
     },
     "metadata": {},
     "output_type": "display_data"
    },
    {
     "data": {
      "application/vnd.jupyter.widget-view+json": {
       "model_id": "89740962fd934ba2ab23640707bdbbe6",
       "version_major": 2,
       "version_minor": 0
      },
      "text/plain": [
       "FigureCanvasNbAgg()"
      ]
     },
     "metadata": {},
     "output_type": "display_data"
    },
    {
     "data": {
      "application/vnd.jupyter.widget-view+json": {
       "model_id": "a06885b4be9c4770af87436ab991f8b0",
       "version_major": 2,
       "version_minor": 0
      },
      "text/plain": [
       "FigureCanvasNbAgg()"
      ]
     },
     "metadata": {},
     "output_type": "display_data"
    },
    {
     "data": {
      "application/vnd.jupyter.widget-view+json": {
       "model_id": "7712ae837fdb4b6695031d9f23248ec5",
       "version_major": 2,
       "version_minor": 0
      },
      "text/plain": [
       "FigureCanvasNbAgg()"
      ]
     },
     "metadata": {},
     "output_type": "display_data"
    },
    {
     "data": {
      "application/vnd.jupyter.widget-view+json": {
       "model_id": "19536d40986f41e699e62b07b030b195",
       "version_major": 2,
       "version_minor": 0
      },
      "text/plain": [
       "FigureCanvasNbAgg()"
      ]
     },
     "metadata": {},
     "output_type": "display_data"
    },
    {
     "data": {
      "application/vnd.jupyter.widget-view+json": {
       "model_id": "00962bd4ae7646ef84a786afa3f61e5c",
       "version_major": 2,
       "version_minor": 0
      },
      "text/plain": [
       "FigureCanvasNbAgg()"
      ]
     },
     "metadata": {},
     "output_type": "display_data"
    },
    {
     "data": {
      "application/vnd.jupyter.widget-view+json": {
       "model_id": "b080ac79122940dd953379075840a685",
       "version_major": 2,
       "version_minor": 0
      },
      "text/plain": [
       "FigureCanvasNbAgg()"
      ]
     },
     "metadata": {},
     "output_type": "display_data"
    },
    {
     "data": {
      "application/vnd.jupyter.widget-view+json": {
       "model_id": "f102c8fc55a247e39093becaf0ab7249",
       "version_major": 2,
       "version_minor": 0
      },
      "text/plain": [
       "FigureCanvasNbAgg()"
      ]
     },
     "metadata": {},
     "output_type": "display_data"
    },
    {
     "data": {
      "application/vnd.jupyter.widget-view+json": {
       "model_id": "4b5bca0b017f4bd2ad5bd02ee9ca82df",
       "version_major": 2,
       "version_minor": 0
      },
      "text/plain": [
       "FigureCanvasNbAgg()"
      ]
     },
     "metadata": {},
     "output_type": "display_data"
    },
    {
     "data": {
      "application/vnd.jupyter.widget-view+json": {
       "model_id": "554d4aecc4e442a68997473e62ec10fb",
       "version_major": 2,
       "version_minor": 0
      },
      "text/plain": [
       "FigureCanvasNbAgg()"
      ]
     },
     "metadata": {},
     "output_type": "display_data"
    },
    {
     "data": {
      "application/vnd.jupyter.widget-view+json": {
       "model_id": "8cf70c0830484de09353baacfe7e8714",
       "version_major": 2,
       "version_minor": 0
      },
      "text/plain": [
       "FigureCanvasNbAgg()"
      ]
     },
     "metadata": {},
     "output_type": "display_data"
    },
    {
     "data": {
      "application/vnd.jupyter.widget-view+json": {
       "model_id": "f894e796e2724b10b764b1ee673b84b0",
       "version_major": 2,
       "version_minor": 0
      },
      "text/plain": [
       "FigureCanvasNbAgg()"
      ]
     },
     "metadata": {},
     "output_type": "display_data"
    },
    {
     "data": {
      "application/vnd.jupyter.widget-view+json": {
       "model_id": "0269c4f5d86346d2b8cb2528052cc5d9",
       "version_major": 2,
       "version_minor": 0
      },
      "text/plain": [
       "FigureCanvasNbAgg()"
      ]
     },
     "metadata": {},
     "output_type": "display_data"
    }
   ],
   "source": [
    "for s in result.sourceCat[::40]:\n",
    "    im = psf.computeImage(s.getCentroid())\n",
    "    box=exposure.getImage()[im.getBBox()].convertF()\n",
    "    psfplt= psf.computeImage(afwGeom.PointD(s.getCentroid())).convertF()\n",
    "    \n",
    "    normbox = (box.array)/s.getApFlux()\n",
    "    normpsf = psfplt.array\n",
    "\n",
    "    box20=normbox[10:30,10:30]\n",
    "    psf20=normpsf[10:30,10:30]\n",
    "\n",
    "    sigma = box20-psf20\n",
    "    \n",
    "    plt.figure(figsize=(6,5))\n",
    "    plt.imshow((box20-psf20)/np.sqrt(var_20),origin='lower',cmap='bwr')\n",
    "    plt.colorbar()"
   ]
  },
  {
   "cell_type": "code",
   "execution_count": null,
   "metadata": {
    "scrolled": false
   },
   "outputs": [],
   "source": []
  },
  {
   "cell_type": "markdown",
   "metadata": {},
   "source": []
  },
  {
   "cell_type": "code",
   "execution_count": null,
   "metadata": {
    "scrolled": false
   },
   "outputs": [],
   "source": []
  },
  {
   "cell_type": "code",
   "execution_count": 500,
   "metadata": {
    "scrolled": false
   },
   "outputs": [
    {
     "data": {
      "application/vnd.jupyter.widget-view+json": {
       "model_id": "",
       "version_major": 2,
       "version_minor": 0
      },
      "text/plain": [
       "FigureCanvasNbAgg()"
      ]
     },
     "metadata": {},
     "output_type": "display_data"
    },
    {
     "data": {
      "text/plain": [
       "<matplotlib.colorbar.Colorbar at 0x2f2423908>"
      ]
     },
     "execution_count": 500,
     "metadata": {},
     "output_type": "execute_result"
    }
   ],
   "source": [
    "#plt.xlim(-0.05,0.05)\n",
    "px = []\n",
    "py = []\n",
    "sigma = []\n",
    "\n",
    "for s in result.sourceCat:\n",
    "    ix=s.getCentroid()[0]\n",
    "    iy=s.getCentroid()[1]\n",
    "    \n",
    "    px.append(ix)\n",
    "    py.append(iy)\n",
    "\n",
    "    im = psf.computeImage(s.getCentroid())\n",
    "    box=exposure.getImage()[im.getBBox()].convertF()\n",
    "    psfplt= psf.computeImage(afwGeom.PointD(s.getCentroid())).convertF()\n",
    "    \n",
    "    normbox = (box.array[10:30,10:30])/s.getApFlux()\n",
    "    normpsf = psfplt.array[10:30,10:30]\n",
    "\n",
    "    sigma.append(((normbox-normpsf)/np.sqrt(var_20)).mean())\n",
    "\n",
    "plt.figure(figsize=(6,5))\n",
    "plt.scatter(px, py, c=sigma, cmap='Blues')    \n",
    "plt.colorbar()"
   ]
  },
  {
   "cell_type": "code",
   "execution_count": 496,
   "metadata": {
    "scrolled": false
   },
   "outputs": [
    {
     "data": {
      "application/vnd.jupyter.widget-view+json": {
       "model_id": "",
       "version_major": 2,
       "version_minor": 0
      },
      "text/plain": [
       "FigureCanvasNbAgg()"
      ]
     },
     "metadata": {},
     "output_type": "display_data"
    },
    {
     "data": {
      "text/plain": [
       "<matplotlib.colorbar.Colorbar at 0x2ec0f5d30>"
      ]
     },
     "execution_count": 496,
     "metadata": {},
     "output_type": "execute_result"
    }
   ],
   "source": [
    "#plt.xlim(-0.05,0.05)\n",
    "px = []\n",
    "py = []\n",
    "sigma = []\n",
    "\n",
    "tilx = []\n",
    "tily = []\n",
    "\n",
    "for s in result.sourceCat:\n",
    "    ix=s.getCentroid()[0]\n",
    "    iy=s.getCentroid()[1]\n",
    "    \n",
    "    px.append(ix)\n",
    "    py.append(iy)\n",
    "\n",
    "    im = psf.computeImage(s.getCentroid())\n",
    "    box=exposure.getImage()[im.getBBox()].convertF()\n",
    "    psfplt= psf.computeImage(afwGeom.PointD(s.getCentroid())).convertF()\n",
    "    \n",
    "    normbox = (box.array[10:30,10:30])/s.getApFlux()\n",
    "    normpsf = psfplt.array[10:30,10:30]\n",
    "\n",
    "    sigma.append(((normbox-normpsf)*(normbox-normpsf)).mean())\n",
    "\n",
    "plt.figure(figsize=(6,5))\n",
    "plt.scatter(px, py, c=sigma, cmap='Blues')    \n",
    "plt.colorbar()"
   ]
  },
  {
   "cell_type": "code",
   "execution_count": 34,
   "metadata": {},
   "outputs": [],
   "source": [
    "def residual_1D(sci_image,var_image,res_iapetus):\n",
    "\n",
    "    \"\"\"\n",
    "\n",
    "    @param[in] sci_image        data (20x20 cutout)\n",
    "    @param[in] var_image        Variance data (20x20 cutout)\n",
    "    @param[in] res_iapetus      model (20x20 cutout)\n",
    "    \"\"\"\n",
    "\n",
    "    #sci_image =np.load(STAMPS_FOLDER+'sci'+str(obs)+str(single_number)+str(arc)+'_Stacked.npy')\n",
    "    #var_image =np.load(STAMPS_FOLDER+'var'+str(obs)+str(single_number)+str(arc)+'_Stacked.npy')\n",
    "    multiplicative_factor_to_renormalize_to_50000=np.max(sci_image)/50000\n",
    "    sci_image_smaller=sci_image[:,8:14]/multiplicative_factor_to_renormalize_to_50000\n",
    "    var_image_smaller=var_image[:,8:14]/multiplicative_factor_to_renormalize_to_50000\n",
    "\n",
    "    residual_initial_smaller=sci_image_smaller-res_iapetus[:,8:14]/multiplicative_factor_to_renormalize_to_50000\n",
    "    #residual_RF_smaller=chi_RF_corrected_image[:,8:14]*np.sqrt(var_image_smaller)\n",
    "\n",
    "    #################################\n",
    "    # step 5 from Horne, very simplified\n",
    "    inputimage_smaller=sci_image_smaller\n",
    "    Px=np.sum(inputimage_smaller,axis=0)/np.sum(inputimage_smaller)\n",
    "    var_inputimage_smaller=var_image_smaller\n",
    "    #################################\n",
    "    # Equation 8 from Horne with modification from Robert abut variance for extraction of signal\n",
    "    # note that this uses profile from full thing, and not \"residual profile\"\n",
    "\n",
    "    # nominator\n",
    "    weighted_inputimage_smaller=inputimage_smaller*Px/(1)\n",
    "    # denominator\n",
    "    weights_array=np.ones((inputimage_smaller.shape[0],inputimage_smaller.shape[1]))*Px**2\n",
    "\n",
    "    init_lamda=np.array(list(map(np.sum, weighted_inputimage_smaller)))/(np.array(list(map(np.sum,weights_array))))\n",
    "    init_lamda_boxcar=np.array(list(map(np.sum, inputimage_smaller)))\n",
    "    # Equation 8.5 from Horne\n",
    "    var_f_std_lamda=1/np.sum(np.array(Px**2/(var_inputimage_smaller)),axis=1)\n",
    "    std_init_lamda=np.sqrt(var_f_std_lamda)\n",
    "    std_init_lamda_boxcar=np.sqrt(np.array(list(map(np.sum, var_inputimage_smaller))))\n",
    "\n",
    "\n",
    "    #################################\n",
    "    # Equation 8 from Horne with modification from Robert abut variance for initial removal\n",
    "    # note that this uses profile from full thing, and not \"residual profile\"\n",
    "\n",
    "    # nominator\n",
    "    weighted_inputimage_smaller=residual_initial_smaller*Px/(1)\n",
    "    # denominator\n",
    "    weights_array=np.ones((residual_initial_smaller.shape[0],residual_initial_smaller.shape[1]))*Px**2\n",
    "\n",
    "    init_removal_lamda=np.array(list(map(np.sum, weighted_inputimage_smaller)))/(np.array(list(map(np.sum,weights_array))))\n",
    "    init_removal_lamda_boxcar=np.array(list(map(np.sum, residual_initial_smaller)))\n",
    "    # Equation 8.5 from Horne\n",
    "    var_init_removal_lamda=1/np.sum(np.array(Px**2/(var_inputimage_smaller)),axis=1)\n",
    "    std_init_removal_lamda=np.sqrt(var_init_removal_lamda)\n",
    "    return init_lamda,std_init_lamda,init_removal_lamda,std_init_removal_lamda\n",
    "\n",
    "def chi_50000(sci_image,var_image,res_iapetus):\n",
    "\n",
    "    #sci_image =np.load(STAMPS_FOLDER+'sci'+str(obs)+str(single_number)+str(arc)+'_Stacked.npy')\n",
    "    #var_image =np.load(STAMPS_FOLDER+'var'+str(obs)+str(single_number)+str(arc)+'_Stacked.npy')\n",
    "    multiplicative_factor_to_renormalize_to_50000=np.max(sci_image)/50000\n",
    "    sci_image_renormalized=sci_image/multiplicative_factor_to_renormalize_to_50000\n",
    "    var_image_renormalized=var_image/multiplicative_factor_to_renormalize_to_50000\n",
    "    res_iapetus_renormalized=res_iapetus/multiplicative_factor_to_renormalize_to_50000\n",
    "\n",
    "\n",
    "    return np.mean((sci_image_renormalized-res_iapetus_renormalized)**2/var_image_renormalized)"
   ]
  },
  {
   "cell_type": "code",
   "execution_count": 35,
   "metadata": {
    "scrolled": false
   },
   "outputs": [],
   "source": [
    "def add_artificial_noise(sci_image,var_image,res_iapetus):\n",
    "    \n",
    "    \"\"\"\n",
    "    add extra noise so that it has comparable noise as if the max flux in the image (in the single pixel) is 40000\n",
    "    \n",
    "    \n",
    "    \"\"\"\n",
    "\n",
    "    \n",
    "    multi_factor=np.max(sci_image)/40000\n",
    "    Max_SN_now=np.max(sci_image)/np.max(np.sqrt(var_image))\n",
    "    dif_in_SN=Max_SN_now/200\n",
    "    artifical_noise=np.zeros_like(res_iapetus)\n",
    "    artifical_noise=np.array(artifical_noise)\n",
    "    for i in range(len(artifical_noise)):\n",
    "        for j in range(len(artifical_noise)):\n",
    "            artifical_noise[i,j]=np.random.randn()*np.sqrt((dif_in_SN**2-1)*var_image[i,j])   \n",
    "            \n",
    "    if dif_in_SN>1:        \n",
    "        return (sci_image+artifical_noise),((dif_in_SN**2)*var_image),res_iapetus\n",
    "    else:\n",
    "        return (sci_image),((dif_in_SN**2)*var_image),res_iapetus "
   ]
  },
  {
   "cell_type": "code",
   "execution_count": null,
   "metadata": {},
   "outputs": [],
   "source": [
    "[_ for _ in dir(result.sourceCat[100]) if _.endswith(\"lux\")]\n",
    "s = result.sourceCat[100]\n",
    "print (s.getPsfFlux())\n",
    "#dir(result.sourceCat[100])"
   ]
  }
 ],
 "metadata": {
  "anaconda-cloud": {},
  "kernelspec": {
   "display_name": "Python 3",
   "language": "python",
   "name": "python3"
  },
  "language_info": {
   "codemirror_mode": {
    "name": "ipython",
    "version": 3
   },
   "file_extension": ".py",
   "mimetype": "text/x-python",
   "name": "python",
   "nbconvert_exporter": "python",
   "pygments_lexer": "ipython3",
   "version": "3.6.2"
  }
 },
 "nbformat": 4,
 "nbformat_minor": 4
}
