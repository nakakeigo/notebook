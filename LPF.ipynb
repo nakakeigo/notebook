{
 "cells": [
  {
   "cell_type": "code",
   "execution_count": 616,
   "metadata": {},
   "outputs": [],
   "source": [
    "import numpy as np\n",
    "import math\n",
    "import matplotlib.pyplot as plt \n",
    "from scipy import signal\n",
    "from scipy import constants as const\n",
    "from scipy import fftpack\n",
    "from scipy import optimize"
   ]
  },
  {
   "cell_type": "code",
   "execution_count": 637,
   "metadata": {},
   "outputs": [],
   "source": [
    "\"\"\" Basic Parameters \"\"\"\n",
    "global samp  #sampleing frequency  (Hz)\n",
    "global NET  # Noise Equivalent Temperature (uKsqrt(s))\n",
    "global tau  # time constant of detector (s)\n",
    "global tstop # measurement time (s)\n",
    "global SNR # Signal to Noise Ratio\n",
    "\n",
    "samp= 2000 \n",
    "NET = 300 \n",
    "tau =0.04\n",
    "tstop = 5.\n",
    "SNR = 10.0\n",
    "\n",
    "\"\"\" stimulator part \"\"\"\n",
    "stm = np.array([1,2,4,5,10,20,40,50,75,80])\n",
    "rflat = 0.8"
   ]
  },
  {
   "cell_type": "code",
   "execution_count": 638,
   "metadata": {},
   "outputs": [],
   "source": [
    "def RecWOP(x,a,b):\n",
    "    \n",
    "    y = []\n",
    "\n",
    "    y1 = [1.0/a/2*x[i]+0.5 for i in range(len(x)) if  x[i]<a]\n",
    "    y.extend(y1)\n",
    "    y2 = [1  for i in range(len(x)) if x[i]>=a and x[i]<=a+b]\n",
    "    y.extend(y2)\n",
    "    y3 = [1.0-1.0/a/2*(x[i]-a-b)  for i in range(len(x)) if x[i]>a+b and x[i]<3*a+b]\n",
    "    y.extend(y3)\n",
    "    y4 = [0   for i in range(len(x)) if x[i]>=3*a+b and x[i]<=3*a+2*b]\n",
    "    y.extend(y4)\n",
    "    y5 = [1.0/a/2*(x[i]-3*a-2*b) for i in range(len(x)) if x[i]>3*a+2*b and x[i]<=4*a+2*b]\n",
    "    y.extend(y5)\n",
    "\n",
    "    return y\n",
    "\n",
    "def RecW(x,a,b,c):\n",
    "\n",
    "    Nsp =  int(round(x[-1]*c))\n",
    "    xsp = np.array((np.array_split(x, Nsp)))\n",
    "    \n",
    "    yRec  = []\n",
    "\n",
    "    for i in range(Nsp):\n",
    "        yOP = RecWOP(xsp[0],tilt,flat)\n",
    "        yRec.extend(yOP)\n",
    "        \n",
    "    return yRec\n"
   ]
  },
  {
   "cell_type": "code",
   "execution_count": 639,
   "metadata": {},
   "outputs": [],
   "source": [
    "def GetSignal(x,a,b,c):\n",
    "    ys = RecW(x,a,b,c)\n",
    "    xf = np.arange(0,len(ys)/samp,1.0/samp)\n",
    "\n",
    "    yexp = np.exp(-xf/tau)/tau\n",
    "    fft_exp = fftpack.fft(yexp)\n",
    "    fft_sig = fftpack.fft(ys)\n",
    "    \n",
    "    in2 = fft_exp*fft_sig/samp\n",
    "    signal =  fftpack.ifft(in2)\n",
    "    \n",
    "    return xf, signal.real +  + np.random.normal(0, 1.0/SNR, len(xf)) \n",
    "\n",
    "\n",
    "def GetNoise(x,a,b,c):\n",
    "    ys = RecW(x,a,b,c)\n",
    "    xf = np.arange(0,len(ys)/samp,1.0/samp)\n",
    "    \n",
    "    return xf, np.random.normal(0, 1.0/SNR, len(xf)) \n",
    "\n"
   ]
  },
  {
   "cell_type": "code",
   "execution_count": 640,
   "metadata": {},
   "outputs": [],
   "source": [
    "def FindPeak(x,y):\n",
    "    fft_sig = fftpack.fft(y)\n",
    "    freqList = fftpack.fftfreq(len(x), d=1.0/ samp)\n",
    "\n",
    "    fft_sig = fftpack.fft(y)\n",
    "    \n",
    "    amp = np.sqrt(fft_sig.real**2+fft_sig.imag**2)/len(x)*2\n",
    "    ph = np.arctan2(fft_sig.imag,fft_sig.real)\n",
    "\n",
    "    #Peak Index\n",
    "    maximal_idx = signal.argrelmax(amp, order=1)[0] \n",
    "    peak_cut = 0.01 #Peak threshold\n",
    "    maximal_idx = maximal_idx[(amp[maximal_idx] > peak_cut) & (maximal_idx <= len(x)/2)]\n",
    "    \n",
    "    #print(max(amp[maximal_idx]), np.sqrt(max(amp[maximal_idx])))\n",
    "    peak = max(amp[maximal_idx])\n",
    "\n",
    "    return peak\n",
    "\n",
    "def  plotFFT(x,y):\n",
    "    fft_sig = fftpack.fft(y)\n",
    "    freqList = fftpack.fftfreq(len(x), d=1.0/ samp)\n",
    "\n",
    "    amp = np.sqrt(fft_sig.real**2+fft_sig.imag**2)/len(x)*2\n",
    "    ph = np.arctan2(fft_sig.imag,fft_sig.real)\n",
    "\n",
    "    #Peak Index\n",
    "    maximal_idx = signal.argrelmax(amp, order=1)[0] \n",
    "    peak_cut = 0.01 #Peak threshold\n",
    "    maximal_idx = maximal_idx[(amp[maximal_idx] > peak_cut) & (maximal_idx <= len(x)/2)]\n",
    "    \n",
    "    plt.plot(freqList,amp)\n",
    "    plt.xlim(0,100)\n",
    "    plt.yscale('log')\n",
    "\n",
    "    "
   ]
  },
  {
   "cell_type": "code",
   "execution_count": 641,
   "metadata": {},
   "outputs": [],
   "source": [
    "def rect(x,f,a,b,c,d):\n",
    "    return  (4/const.pi)*(a*np.sin(2*const.pi*f*x)+b*np.sin(2*const.pi*3*f*x)+c*np.sin(2*const.pi*5*f*x)+d*np.sin(2*const.pi*7*f*x))+0.5\n",
    "\n",
    "def Find1stpeak(x,y):\n",
    "    pinit=[fstm,1,1/3,1/5,1/7]\n",
    "\n",
    "    params,cov = optimize.curve_fit(rect, x, y, pinit)\n",
    "\n",
    "    stderr = np.sqrt(np.diag(cov)) \n",
    "    \n",
    "    print(params[1],stderr[1])\n",
    "    \n",
    "    return params[1]\n",
    "\n",
    "def PlotSignal(x,y):\n",
    "\n",
    "    pinit=[fstm,1,1/3,1/5,1/7]\n",
    "    params,cov = optimize.curve_fit(rect, x, y, pinit)\n",
    "\n",
    "    #stderr = np.sqrt(np.diag(cov)) \n",
    "    \n",
    "    plt.plot(x,y)\n",
    "    plt.plot(x, rect(x,params[0],params[1],params[2],params[3],params[4]))"
   ]
  },
  {
   "cell_type": "code",
   "execution_count": 642,
   "metadata": {},
   "outputs": [
    {
     "name": "stdout",
     "output_type": "stream",
     "text": [
      "0.47404353581458947 0.001313041959921682\n",
      "0.43038971178959834 0.0015528182491975552\n",
      "0.32303407393146316 0.001780789213267112\n",
      "0.27877644218856534 0.0017666431866721433\n",
      "0.15298117489233673 0.0015040264161001531\n",
      "0.07481599965848945 0.001260373121271846\n",
      "0.0374603525787505 0.0011563485820577798\n",
      "0.0319398469451986 0.0011494929540110423\n",
      "-0.002645799614169928 0.0011314451311552707\n",
      "0.018021435226844316 0.0011203466363238857\n"
     ]
    },
    {
     "data": {
      "image/png": "[encoded data removed]",
      "text/plain": [
       "<Figure size 432x288 with 1 Axes>"
      ]
     },
     "metadata": {
      "needs_background": "light"
     },
     "output_type": "display_data"
    }
   ],
   "source": [
    "gain = []\n",
    "gain2 = []\n",
    "x = np.arange(0,tstop,1.0/samp)\n",
    "\n",
    "for i in range(10):\n",
    "    fstm = stm[i]\n",
    "    flat = rflat/fstm/2\n",
    "    tilt = (1-rflat)/4/fstm\n",
    "    x, y = GetSignal(x,tilt,flat,fstm)     \n",
    "    #plotFFT(x,y)\n",
    "    if i == 1:\n",
    "        PlotSignal(x,y)\n",
    "    gain2.append(FindPeak(x,y))\n",
    "    gain.append(Find1stpeak(x,y))"
   ]
  },
  {
   "cell_type": "code",
   "execution_count": 643,
   "metadata": {},
   "outputs": [],
   "source": [
    "x, y = GetNoise(x,tilt,flat,fstm)     "
   ]
  },
  {
   "cell_type": "code",
   "execution_count": 644,
   "metadata": {},
   "outputs": [],
   "source": [
    "f = stm\n",
    "g1= np.array(gain)\n",
    "g2=np.array(gain2) "
   ]
  },
  {
   "cell_type": "code",
   "execution_count": 645,
   "metadata": {},
   "outputs": [],
   "source": [
    "def func(x,t,A):\n",
    "    return  A/np.sqrt(1+(2*const.pi*t*x)**2)"
   ]
  },
  {
   "cell_type": "code",
   "execution_count": 646,
   "metadata": {},
   "outputs": [
    {
     "name": "stdout",
     "output_type": "stream",
     "text": [
      "[0.04821932 0.49966675]\n"
     ]
    },
    {
     "data": {
      "text/plain": [
       "[<matplotlib.lines.Line2D at 0x1c284bf0d0>]"
      ]
     },
     "execution_count": 646,
     "metadata": {},
     "output_type": "execute_result"
    },
    {
     "data": {
      "image/png": "[encoded data removed]",
      "text/plain": [
       "<Figure size 432x288 with 1 Axes>"
      ]
     },
     "metadata": {
      "needs_background": "light"
     },
     "output_type": "display_data"
    }
   ],
   "source": [
    "#initial parameters \n",
    "pinit=[tau, 1]\n",
    "\n",
    "params,cov = optimize.curve_fit(func, f, g1,pinit)\n",
    "\n",
    "params2, cov2 = optimize.curve_fit(func, f, g2,pinit)\n",
    "\n",
    "\n",
    "print(params)\n",
    "\n",
    "plt.plot(f,g1/params[1],'o')\n",
    "plt.plot(f,g2/params2[1],'o')\n",
    "#plt.plot(f, func(f,params[0],params[1]))"
   ]
  },
  {
   "cell_type": "code",
   "execution_count": null,
   "metadata": {},
   "outputs": [],
   "source": []
  },
  {
   "cell_type": "code",
   "execution_count": 238,
   "metadata": {},
   "outputs": [],
   "source": []
  },
  {
   "cell_type": "code",
   "execution_count": null,
   "metadata": {},
   "outputs": [],
   "source": []
  }
 ],
 "metadata": {
  "kernelspec": {
   "display_name": "Python 3",
   "language": "python",
   "name": "python3"
  },
  "language_info": {
   "codemirror_mode": {
    "name": "ipython",
    "version": 3
   },
   "file_extension": ".py",
   "mimetype": "text/x-python",
   "name": "python",
   "nbconvert_exporter": "python",
   "pygments_lexer": "ipython3",
   "version": "3.7.4"
  }
 },
 "nbformat": 4,
 "nbformat_minor": 2
}
