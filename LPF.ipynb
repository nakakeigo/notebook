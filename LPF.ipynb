{
 "cells": [
  {
   "cell_type": "code",
   "execution_count": 185,
   "metadata": {},
   "outputs": [],
   "source": [
    "import numpy as np\n",
    "import math\n",
    "import matplotlib.pyplot as plt \n",
    "from scipy import signal\n",
    "from scipy import constants as const\n",
    "from scipy import fftpack\n",
    "from scipy import optimize\n",
    "from iminuit import Minuit"
   ]
  },
  {
   "cell_type": "code",
   "execution_count": 196,
   "metadata": {},
   "outputs": [],
   "source": [
    "\"\"\" Basic Parameters \"\"\"\n",
    "global samp  #sampleing frequency  (Hz)\n",
    "global NET  # Noise Equivalent Temperature (uKsqrt(s))\n",
    "global tau  # time constant of detector (s)\n",
    "global tstop # measurement time (s)\n",
    "global SNR # Signal to Noise Ratio\n",
    "\n",
    "samp=  2000 \n",
    "NET = 300 \n",
    "tau =0.04\n",
    "tstop = 10.\n",
    "SNR = 10.0\n",
    "\n",
    "\"\"\" stimulator part \"\"\"\n",
    "stm = np.array([1,2,4,5,10,20,40,50,75,80])\n",
    "rflat = 0.8"
   ]
  },
  {
   "cell_type": "code",
   "execution_count": 197,
   "metadata": {},
   "outputs": [],
   "source": [
    "def RecWOP(x,a,b):\n",
    "    \n",
    "    y = []\n",
    "\n",
    "    y1 = [1.0/a/2*x[i]+0.5 for i in range(len(x)) if  x[i]<a]\n",
    "    y.extend(y1)\n",
    "    y2 = [1  for i in range(len(x)) if x[i]>=a and x[i]<=a+b]\n",
    "    y.extend(y2)\n",
    "    y3 = [1.0-1.0/a/2*(x[i]-a-b)  for i in range(len(x)) if x[i]>a+b and x[i]<3*a+b]\n",
    "    y.extend(y3)\n",
    "    y4 = [0   for i in range(len(x)) if x[i]>=3*a+b and x[i]<=3*a+2*b]\n",
    "    y.extend(y4)\n",
    "    y5 = [1.0/a/2*(x[i]-3*a-2*b) for i in range(len(x)) if x[i]>3*a+2*b and x[i]<=4*a+2*b]\n",
    "    y.extend(y5)\n",
    "\n",
    "    return y\n",
    "\n",
    "def RecW(x,a,b,c):\n",
    "\n",
    "    Nsp =  int(round(x[-1]*c))\n",
    "    xsp = np.array((np.array_split(x, Nsp)))\n",
    "    \n",
    "    yRec  = []\n",
    "\n",
    "    for i in range(Nsp):\n",
    "        yOP = RecWOP(xsp[0],tilt,flat)\n",
    "        yRec.extend(yOP)\n",
    "        \n",
    "    return yRec\n"
   ]
  },
  {
   "cell_type": "code",
   "execution_count": 198,
   "metadata": {},
   "outputs": [],
   "source": [
    "def GetSignal(x,a,b,c):\n",
    "    ys = RecW(x,a,b,c)\n",
    "    xf = np.arange(0,len(ys)/samp,1.0/samp)\n",
    "\n",
    "    yexp = np.exp(-xf/tau)/tau\n",
    "    fft_exp = fftpack.fft(yexp)\n",
    "    fft_sig = fftpack.fft(ys)\n",
    "    \n",
    "    in2 = fft_exp*fft_sig/samp\n",
    "    signal =  fftpack.ifft(in2)\n",
    "    \n",
    "    return xf, signal.real + np.random.normal(0, 1.0/SNR, len(xf)) \n",
    "\n",
    "def GetOnePhase(x,a,b,c):\n",
    "    \n",
    "    Nsp =  int(round(x[-1]*c))\n",
    "    xsp = np.array((np.array_split(x, Nsp)))\n",
    "    \n",
    "    ys = RecWOP(xsp[0],a,b)\n",
    "    \n",
    "    xf = np.arange(0,len(ys)/samp,1.0/samp)\n",
    "\n",
    "    yexp = np.exp(-xf/tau)/tau\n",
    "    fft_exp = fftpack.fft(yexp)\n",
    "    fft_sig = fftpack.fft(ys)\n",
    "    \n",
    "    in2 = fft_exp*fft_sig/samp\n",
    "    signal =  fftpack.ifft(in2)\n",
    "\n",
    "    sigsum = signal.real\n",
    "    sigmam = []\n",
    "    \n",
    "    for i in range(Nsp-1):\n",
    "        sigsum= sigsum+signal.real+np.random.normal(0, 1.0/SNR, len(xf))\n",
    "        sigmam.append(signal.real+np.random.normal(0, 1.0/SNR, len(xf)))\n",
    "        \n",
    "    return xf, sigsum/Nsp, np.std(sigmam, axis=0)\n",
    "\n",
    "def GetNoise(x,a,b,c):\n",
    "    ys = RecW(x,a,b,c)\n",
    "    xf = np.arange(0,len(ys)/samp,1.0/samp)\n",
    "    \n",
    "    return  np.random.normal(0, 1.0/SNR, len(xf))\n"
   ]
  },
  {
   "cell_type": "code",
   "execution_count": 199,
   "metadata": {},
   "outputs": [],
   "source": [
    "def FindPeak(x,y):\n",
    "    fft_sig = fftpack.fft(y)\n",
    "    freqList = fftpack.fftfreq(len(x), d=1.0/ samp)\n",
    "\n",
    "    fft_sig = fftpack.fft(y)\n",
    "    \n",
    "    amp = np.sqrt(fft_sig.real**2+fft_sig.imag**2)/len(x)*2\n",
    "    ph = np.arctan2(fft_sig.imag,fft_sig.real)\n",
    "\n",
    "    #Peak Index\n",
    "    maximal_idx = signal.argrelmax(amp, order=1)[0] \n",
    "    peak_cut = 0.01 #Peak threshold\n",
    "    maximal_idx = maximal_idx[(amp[maximal_idx] > peak_cut) & (maximal_idx <= len(x)/2)]\n",
    "    \n",
    "    peak = max(amp[maximal_idx])\n",
    "    ipeak = np.where(amp==max(amp[maximal_idx]))[0][0]          \n",
    "\n",
    "    return ipeak, peak\n",
    "\n",
    "def  plotFFT(x,y):\n",
    "    fft_sig = fftpack.fft(y)\n",
    "    freqList = fftpack.fftfreq(len(x), d=1.0/ samp)\n",
    "\n",
    "    amp = np.sqrt(fft_sig.real**2+fft_sig.imag**2)/len(x)*2\n",
    "    ph = np.arctan2(fft_sig.imag,fft_sig.real)\n",
    "\n",
    "    #Peak Index\n",
    "    maximal_idx = signal.argrelmax(amp, order=1)[0] \n",
    "    peak_cut = 0.01 #Peak threshold\n",
    "    maximal_idx = maximal_idx[(amp[maximal_idx] > peak_cut) & (maximal_idx <= len(x)/2)]\n",
    "    \n",
    "    plt.plot(freqList,amp)\n",
    "    plt.xlim(0,100)\n",
    "    plt.yscale('log')\n",
    "\n",
    "def NoiseFFT(x, y, freq):\n",
    "    fft_sig = fftpack.fft(y)\n",
    "    freqList = fftpack.fftfreq(len(x), d=1.0/ samp)\n",
    "    \n",
    "    amp = np.sqrt(fft_sig.real**2+fft_sig.imag**2)/len(x)*2\n",
    "    ph = np.arctan2(fft_sig.imag,fft_sig.real)\n",
    "    \n",
    "    return amp[freq]"
   ]
  },
  {
   "cell_type": "code",
   "execution_count": 200,
   "metadata": {},
   "outputs": [],
   "source": [
    "def rect(x,f,a,b,c,d,p1,p2,p3,p4,off):\n",
    "    return  (4/const.pi)*(a*np.sin(2*const.pi*f*x+p1)+b*np.sin(2*const.pi*3*f*x+p2)+c*np.sin(2*const.pi*5*f*x+p3)+d*np.sin(2*const.pi*7*f*x+p4))+off\n",
    "\n",
    "def Find1stPeak(x,y):\n",
    "    pinit=[fstm,1,1/3,1/5,1/7,0,0,0,0,0.5]\n",
    "\n",
    "    params,cov = optimize.curve_fit(rect, x, y, pinit)\n",
    "\n",
    "    stderr = np.sqrt(np.diag(cov)) \n",
    "        \n",
    "    return params[1]\n",
    "\n",
    "def PlotSignal(x,y):\n",
    "\n",
    "    pinit=[fstm,1,1/3,1/5,1/7,0,0,0,0,0.5]\n",
    "    params,cov = optimize.curve_fit(rect, x, y, pinit)\n",
    "\n",
    "    stderr = np.sqrt(np.diag(cov)) \n",
    "    \n",
    "    plt.plot(x,y)\n",
    "    plt.xlim(0,1)\n",
    "    plt.plot(x, rect(x,params[0],params[1],params[2],params[3],params[4],params[5],params[6],params[7],params[8],params[9]))\n"
   ]
  },
  {
   "cell_type": "code",
   "execution_count": 201,
   "metadata": {},
   "outputs": [],
   "source": [
    "def MinuitMinimize(x,y, yvar):        \n",
    "\n",
    "    def LSQ(f, a, b, c, d, p1, p2, p3, p4,off):\n",
    "        return np.sum((y-rect(xf,f,a,b,c,d,p1,p2,p3,p4,off))**2/yvar**2)\n",
    "\n",
    "    pinit = [fstm,0.5,1/3,1/5,1/7,0,0,0,0,0.5]\n",
    "    perror=[0.01,0.01,0.01,0.01,0.01,0.01,0.01,0.01,0.01,0.01]\n",
    "\n",
    "    m = Minuit(LSQ, f=pinit[0], a=pinit[1], b=pinit[2], c=pinit[3], d=pinit[4], \n",
    "                 p1=pinit[5], p2=pinit[6], p3=pinit[7], p4=pinit[8], off=pinit[9],\n",
    "                 error_f=perror[0], error_a=perror[1], error_b=perror[2], error_c=perror[3], error_d=perror[4],\n",
    "                 error_p1=perror[5], error_p2=perror[6], error_p3=perror[7], error_p4=perror[8], error_off=perror[9], \n",
    "                 limit_a=(0, None), limit_b=(0, None), limit_c=(0, None), limit_d=(0, None),\n",
    "               errordef=1)\n",
    "\n",
    "    m.get_param_states()\n",
    "    m.migrad()\n",
    "\n",
    "    return abs(m.values[1]), m.errors[1]\n",
    "\n",
    "def ShowFitResult(x,y):        \n",
    "    pinit = [fstm,0.5,1/3,1/5,1/7,0,0,0,0,0.5]\n",
    "    perror=[0.01,0.01,0.01,0.01,0.01,0.01,0.01,0.01,0.01,0.01]\n",
    "\n",
    "    m = Minuit(LSQ, f=pinit[0], a=pinit[1], b=pinit[2], c=pinit[3], d=pinit[4], \n",
    "                 p1=pinit[5], p2=pinit[6], p3=pinit[7], p4=pinit[8], off=pinit[9],\n",
    "                 error_f=perror[0], error_a=perror[1], error_b=perror[2], error_c=perror[3], error_d=perror[4],\n",
    "                 error_p1=perror[5], error_p2=perror[6], error_p3=perror[7], error_p4=perror[8], error_off=perror[9], \n",
    "                 limit_a=(0, None), limit_b=(0, None), limit_c=(0, None), limit_d=(0, None),\n",
    "               errordef=1)\n",
    " \n",
    "    #m.get_param_states()\n",
    "    m.migrad()\n",
    "    m.hesse()\n",
    "    m.minos()\n",
    "    print(m.values)\n",
    "    print(m.errors)\n",
    "\n",
    "\n",
    "def PlotMinuitSignal(x,y):\n",
    "    pinit = [fstm,0.5,1/3,1/5,1/7,0,0,0,0,0.5]\n",
    "    perror=[0.01,0.01,0.01,0.01,0.01,0.01,0.01,0.01,0.01,0.01]\n",
    "\n",
    "    m = Minuit(LSQ, f=pinit[0], a=pinit[1], b=pinit[2], c=pinit[3], d=pinit[4], \n",
    "                 p1=pinit[5], p2=pinit[6], p3=pinit[7], p4=pinit[8], off=pinit[9],\n",
    "                 error_f=perror[0], error_a=perror[1], error_b=perror[2], error_c=perror[3], error_d=perror[4],\n",
    "                 error_p1=perror[5], error_p2=perror[6], error_p3=perror[7], error_p4=perror[8], error_off=perror[9], \n",
    "                 limit_a=(0, None), limit_b=(0, None), limit_c=(0, None), limit_d=(0, None),\n",
    "               errordef=1)\n",
    "    \n",
    "    m.migrad()\n",
    "        \n",
    "    plt.plot(x,y)\n",
    "    plt.plot(x, rect(x,m.values[0],m.values[1],m.values[2],m.values[3],m.values[4],m.values[5],m.values[6],m.values[7],m.values[8],m.values[9]))"
   ]
  },
  {
   "cell_type": "code",
   "execution_count": 202,
   "metadata": {},
   "outputs": [
    {
     "name": "stdout",
     "output_type": "stream",
     "text": [
      "0.6095067315782886\n",
      "0.5619013809384892\n",
      "0.44324809239592794\n",
      "0.3926247285137717\n",
      "0.23292019806821695\n",
      "0.12257502979611452\n",
      "0.06055810994878916\n",
      "0.04980250189987296\n",
      "0.03291440297121875\n",
      "0.032622472757630326\n"
     ]
    },
    {
     "data": {
      "image/png": "[encoded data removed]",
      "text/plain": [
       "<Figure size 432x288 with 1 Axes>"
      ]
     },
     "metadata": {
      "needs_background": "light"
     },
     "output_type": "display_data"
    }
   ],
   "source": [
    "gain2 = []\n",
    "gain2e = []\n",
    "\n",
    "x = np.arange(0,tstop,1.0/samp)\n",
    "\n",
    "for i in range(10):\n",
    "    fstm = stm[i]\n",
    "    flat = rflat/fstm/2\n",
    "    tilt = (1-rflat)/4/fstm\n",
    "    xf, y = GetSignal(x,tilt,flat,fstm)     \n",
    "    yvar = GetNoise(x,tilt,flat,fstm)     \n",
    "  \n",
    "    if i ==8:\n",
    "        #PlotMinuitSignal(xf,y)\n",
    "        #ShowFitResult(xf,y)\n",
    "        plotFFT(xf,y)\n",
    "        \n",
    "    ipeak, peak= FindPeak(xf,y)\n",
    "    noise = NoiseFFT(xf,yvar,ipeak)\n",
    "    \n",
    "    gain2.append(peak)\n",
    "    gain2e.append(noise)\n",
    "    \n",
    "    print(peak)\n",
    "    \n",
    "f = stm\n",
    "g2=np.array(gain2)\n",
    "g2e=np.array(gain2e)"
   ]
  },
  {
   "cell_type": "code",
   "execution_count": 203,
   "metadata": {
    "scrolled": true
   },
   "outputs": [
    {
     "name": "stdout",
     "output_type": "stream",
     "text": [
      "0.4798336917973165\n",
      "0.4418248050174802\n",
      "0.3491831720021832\n",
      "0.30782309131719554\n",
      "0.16897156170004712\n",
      "0.07017179379353378\n",
      "0.023398831747518\n",
      "0.015341978522297683\n",
      "0.007821525460981249\n",
      "0.006093205266914037\n"
     ]
    },
    {
     "data": {
      "image/png": "[encoded data removed]",
      "text/plain": [
       "<Figure size 432x288 with 1 Axes>"
      ]
     },
     "metadata": {
      "needs_background": "light"
     },
     "output_type": "display_data"
    }
   ],
   "source": [
    "x = []\n",
    "y = []\n",
    "xf = []\n",
    "gain = []\n",
    "gaine = []\n",
    "\n",
    "x = np.arange(0,tstop,1.0/samp)\n",
    "\n",
    "for i in range(10):\n",
    "    fstm = stm[i]\n",
    "    flat = rflat/fstm/2\n",
    "    tilt = (1-rflat)/4/fstm\n",
    "    xf, y ,yvar = GetOnePhase(x,tilt,flat,fstm)     \n",
    "    \n",
    "    if i ==7:\n",
    "        #PlotMinuitSignal(xf,y)\n",
    "        plt.errorbar(xf,y,yvar)\n",
    "        #ShowFitResult(xf,y)\n",
    "        #plotFFT(x,y)\n",
    "    \n",
    "    amp, err =MinuitMinimize(xf,y,yvar) \n",
    "    gain.append(amp)\n",
    "    gaine.append(err)\n",
    "    print(amp)\n",
    "    \n",
    "f = stm\n",
    "g1= np.array(gain)\n",
    "g1e= np.array(gaine)"
   ]
  },
  {
   "cell_type": "code",
   "execution_count": 204,
   "metadata": {},
   "outputs": [
    {
     "name": "stdout",
     "output_type": "stream",
     "text": [
      "result= 0.04067968887430442   diff= 0.016992221857610457 error= 0.0009051720686675882\n"
     ]
    },
    {
     "data": {
      "image/png": "[encoded data removed]",
      "text/plain": [
       "<Figure size 432x288 with 1 Axes>"
      ]
     },
     "metadata": {
      "needs_background": "light"
     },
     "output_type": "display_data"
    }
   ],
   "source": [
    "FitLPF(f,g1, g1e)"
   ]
  },
  {
   "cell_type": "code",
   "execution_count": 205,
   "metadata": {},
   "outputs": [
    {
     "name": "stdout",
     "output_type": "stream",
     "text": [
      "result= 0.04012978261973821   diff= 0.0032445654934551774 error= 0.00015276118780216378\n"
     ]
    },
    {
     "data": {
      "image/png": "[encoded data removed]",
      "text/plain": [
       "<Figure size 432x288 with 1 Axes>"
      ]
     },
     "metadata": {
      "needs_background": "light"
     },
     "output_type": "display_data"
    }
   ],
   "source": [
    "FitLPF(f,g2, g2e)"
   ]
  },
  {
   "cell_type": "code",
   "execution_count": null,
   "metadata": {},
   "outputs": [],
   "source": [
    "\n"
   ]
  },
  {
   "cell_type": "code",
   "execution_count": 164,
   "metadata": {},
   "outputs": [],
   "source": [
    "def func(x,t,A):\n",
    "    return  A/np.sqrt(1+(2*const.pi*t*x)**2)\n",
    "\n",
    "def FitLPF(f, g, ge):\n",
    "    \n",
    "    def LSQLPF(t,A):\n",
    "        return np.sum((g-func(f,t,A))**2/ge**2)\n",
    "\n",
    "    pinit = [tau,1]\n",
    "    perror=[0.01,0.01]\n",
    "    \n",
    "    m = Minuit(LSQLPF, t=pinit[0], A=pinit[1], error_t=perror[0], error_A=perror[1], errordef=1)\n",
    "\n",
    "    m.get_param_states()\n",
    "    m.migrad()\n",
    "\n",
    "    print(\"result=\", m.values[0],  \"  diff=\", (m.values[0]-tau)/tau, \"error=\", m.errors[0])\n",
    "\n",
    "    #plt.plot(f,g1/params[1],'o',label='Minuit')\n",
    "    plt.errorbar(f,g/m.values[1],ge)\n",
    "\n",
    "    plt.plot(f, func(f,m.values[0],m.values[1])/m.values[1])\n",
    "        \n",
    "#    return m.values[0],m.values[1], m.errors[0],m.errors[1]\n",
    " \n",
    "    \n",
    "def PlotLPF(f, g, ge):\n",
    "    \n",
    "#initial parameters \n",
    "    pinit=[tau, 1]\n",
    "    print(\"MinuitFit = \", params,  \"  diff=\", (params[0]-tau)/tau)\n",
    "    print(\"wave Fit = \",params2, \"  diff=\", (params2[0]-tau)/tau)\n",
    "    print(\"FFT Fit = \",params3, \"  diff=\", (params3[0]-tau)/tau)\n",
    "\n",
    "    plt.plot(f,g1/params[1],'o',label='Minuit')\n",
    "    plt.errorbar(f,g1/params[1],g1e)\n",
    "    plt.plot(f,g2/params2[1],'o', label='wavefit')\n",
    "    plt.plot(f,g3/params3[1],'o', label='FFT')\n",
    "\n",
    "    plt.plot(f, func(f,params[0],params[1])/params[1], label='Minuit')\n",
    "    plt.plot(f, func(f,params2[0],params2[1])/params2[1], label='wavefit')\n",
    "    plt.plot(f, func(f,params3[0],params3[1])/params3[1], label='FFT')\n",
    "    plt.legend()"
   ]
  },
  {
   "cell_type": "code",
   "execution_count": null,
   "metadata": {},
   "outputs": [],
   "source": []
  },
  {
   "cell_type": "code",
   "execution_count": 332,
   "metadata": {},
   "outputs": [],
   "source": [
    "result1=[[1.0008336293521243,0.8644990198108536,0.8886542490292865,0.8959985509146158,1.0268612256504333,0.8924319097018256],\n",
    "         [0.07253664918692396, -0.005714394661179498, -0.007812778114588657, 0.005501607730967924, 0.011424747255616222, 0.009518846114210493],\n",
    "         [0.043979508092483084,0.038544269578102974,0.0312769403362256,0.02304063135559111,0.010876401481221647,0.012577430575168476],\n",
    "         [0.2456002309750566,0.06418054622734387,0.013022980456657562,0.015368353607079013,0.007714361826994913, 0.011185223615795686]]\n",
    "\n",
    "result2 = [[-0.00730660833397935,0.008908708666239759,0.001059945946427221,-0.017123669606045056,-0.013518178907162906,-0.010873744968803098],[-0.04600475873088681,-0.014648853396649793,-0.019133301175467375,-0.00564086745231708,7.628392831009884e-05,-0.001481988968441393],[-0.051311793821275965,-0.011123874373461864,0.02235638779609188,0.013402145375744808,8.265890623099931e-05,0.0019458613958111756],[-0.12801446919045062,-0.003692593481976515, 0.001303046334786076, 0.006756090690608445, -0.0031524644900724624,0.0006445966255048952]]"
   ]
  },
  {
   "cell_type": "code",
   "execution_count": 333,
   "metadata": {},
   "outputs": [
    {
     "data": {
      "text/plain": [
       "<matplotlib.colorbar.Colorbar at 0x12d8a1410>"
      ]
     },
     "execution_count": 333,
     "metadata": {},
     "output_type": "execute_result"
    },
    {
     "data": {
      "image/png": "[encoded data removed]",
      "text/plain": [
       "<Figure size 432x288 with 2 Axes>"
      ]
     },
     "metadata": {
      "needs_background": "light"
     },
     "output_type": "display_data"
    }
   ],
   "source": [
    "#X = [1,2,5,10,20,50]\n",
    "#Y = [1.0, 0.8,0.5,0.2]\n",
    "fig = plt.figure()\n",
    "ax = fig.add_subplot(111)\n",
    "plt.pcolor(result1, vmin=-0.1, vmax=0.1)\n",
    "plt.colorbar()"
   ]
  },
  {
   "cell_type": "code",
   "execution_count": 334,
   "metadata": {},
   "outputs": [
    {
     "data": {
      "text/plain": [
       "<matplotlib.colorbar.Colorbar at 0x12e1e9910>"
      ]
     },
     "execution_count": 334,
     "metadata": {},
     "output_type": "execute_result"
    },
    {
     "data": {
      "image/png": "[encoded data removed]",
      "text/plain": [
       "<Figure size 432x288 with 2 Axes>"
      ]
     },
     "metadata": {
      "needs_background": "light"
     },
     "output_type": "display_data"
    }
   ],
   "source": [
    "#xlabel = [1,2,5,10,20,50]\n",
    "#ylabel = [1.0, 0.8,0.5,0.2]\n",
    "fig = plt.figure()\n",
    "ax = fig.add_subplot(111)\n",
    "plt.pcolor(result2, vmin=-0.1, vmax=0.1)\n",
    "plt.colorbar()"
   ]
  },
  {
   "cell_type": "code",
   "execution_count": null,
   "metadata": {},
   "outputs": [],
   "source": []
  }
 ],
 "metadata": {
  "kernelspec": {
   "display_name": "Python 3",
   "language": "python",
   "name": "python3"
  },
  "language_info": {
   "codemirror_mode": {
    "name": "ipython",
    "version": 3
   },
   "file_extension": ".py",
   "mimetype": "text/x-python",
   "name": "python",
   "nbconvert_exporter": "python",
   "pygments_lexer": "ipython3",
   "version": "3.7.4"
  }
 },
 "nbformat": 4,
 "nbformat_minor": 2
}
