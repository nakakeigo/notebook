{
 "cells": [
  {
   "cell_type": "code",
   "execution_count": 1,
   "metadata": {},
   "outputs": [],
   "source": [
    "import numpy as np\n",
    "import math\n",
    "import matplotlib.pyplot as plt \n",
    "from scipy import signal\n",
    "from scipy import constants as const\n",
    "from scipy import fftpack\n",
    "import copy"
   ]
  },
  {
   "cell_type": "code",
   "execution_count": 2,
   "metadata": {},
   "outputs": [],
   "source": [
    "def RecWOP(x,a,b):\n",
    "    \n",
    "    y = []\n",
    "\n",
    "    y1 = [1.0/a/2*x[i]+0.5 for i in range(len(x)) if  x[i]<a]\n",
    "    y.extend(y1)\n",
    "    y2 = [1  for i in range(len(x)) if x[i]>=a and x[i]<=a+b]\n",
    "    y.extend(y2)\n",
    "    y3 = [1.0-1.0/a/2*(x[i]-a-b)  for i in range(len(x)) if x[i]>a+b and x[i]<3*a+b]\n",
    "    y.extend(y3)\n",
    "    y4 = [0   for i in range(len(x)) if x[i]>=3*a+b and x[i]<=3*a+2*b]\n",
    "    y.extend(y4)\n",
    "    y5 = [1.0/a/2*(x[i]-3*a-2*b) for i in range(len(x)) if x[i]>3*a+2*b and x[i]<=4*a+2*b]\n",
    "    y.extend(y5)\n",
    "\n",
    "    return y\n",
    "\n",
    "def RecW(x,a,b,c):\n",
    "\n",
    "    Nsp =  int(round(x[-1]*c))\n",
    "    xsp = np.array((np.array_split(x, Nsp)))\n",
    "    \n",
    "    yRec  = []\n",
    "\n",
    "    for i in range(Nsp):\n",
    "        yOP = RecWOP(xsp[0],tilt,flat)\n",
    "        yRec.extend(yOP)\n",
    "        \n",
    "    return yRec"
   ]
  },
  {
   "cell_type": "code",
   "execution_count": 3,
   "metadata": {},
   "outputs": [],
   "source": [
    "def GetSignal(x,a,b,c,t,s):\n",
    "    ys = RecW(x,a,b,c)\n",
    "    xf = np.arange(0,len(ys)/s,1.0/s)\n",
    "\n",
    "    yexp = np.exp(-xf/t)\n",
    "    fft_exp = fftpack.fft(yexp)\n",
    "    fft_sig = fftpack.fft(ys)\n",
    "    \n",
    "    \n",
    "    in2 = fft_exp*fft_sig/t/s\n",
    "    signal =  fftpack.ifft(in2)\n",
    "    \n",
    "    return xf, signal.real"
   ]
  },
  {
   "cell_type": "code",
   "execution_count": 141,
   "metadata": {},
   "outputs": [],
   "source": [
    "samp = 2000 #(Hz)\n",
    "NET = 300 \n",
    "tau =0.04 #(s)\n",
    "tstop = 5. #(s)\n",
    "\n",
    "\"\"\" stimulator part \"\"\"\n",
    "#Nsf = 10\n",
    "stm = np.array([1,2,4,5,10,20,40,50,75,80])\n",
    "rflat = 1.0\n",
    "fstm = 80\n",
    "flat = rflat/fstm/2\n",
    "tilt = (1-rflat)/4/fstm\n",
    "\n",
    "gain = []\n",
    "x = np.arange(0,tstop,1.0/samp)"
   ]
  },
  {
   "cell_type": "code",
   "execution_count": 142,
   "metadata": {},
   "outputs": [
    {
     "name": "stdout",
     "output_type": "stream",
     "text": [
      "1.0062555674236349\n",
      "1.0024334938239352\n",
      "0.9225688083471273\n",
      "0.8553507040226404\n",
      "0.5624128168699118\n",
      "0.3074301636662185\n",
      "0.1620934859019708\n",
      "0.1313188287125837\n",
      "0.08458661954930935\n",
      "0.08157943215656749\n"
     ]
    }
   ],
   "source": [
    "for i in range(10):\n",
    "    rflat = 1.0\n",
    "    fstm = stm[i]\n",
    "    flat = rflat/fstm/2\n",
    "    tilt = (1-rflat)/4/fstm\n",
    "    x, y = GetSignal(x,tilt,flat,fstm,tau,samp)\n",
    "    print(max(y)-min(y))\n",
    "    gain.append(max(y)-min(y))"
   ]
  },
  {
   "cell_type": "code",
   "execution_count": 143,
   "metadata": {},
   "outputs": [],
   "source": [
    "from scipy import optimize"
   ]
  },
  {
   "cell_type": "code",
   "execution_count": 144,
   "metadata": {},
   "outputs": [],
   "source": [
    "f = stm\n",
    "g1= np.array(gain)"
   ]
  },
  {
   "cell_type": "code",
   "execution_count": 145,
   "metadata": {},
   "outputs": [],
   "source": [
    "def func(x,tau,A):\n",
    "    return  A/np.sqrt(1+(2*const.pi*tau*x)**2)"
   ]
  },
  {
   "cell_type": "code",
   "execution_count": 146,
   "metadata": {},
   "outputs": [
    {
     "name": "stdout",
     "output_type": "stream",
     "text": [
      "[0.02424361 1.04675903]\n"
     ]
    },
    {
     "data": {
      "text/plain": [
       "[<matplotlib.lines.Line2D at 0x1c25b4f310>]"
      ]
     },
     "execution_count": 146,
     "metadata": {},
     "output_type": "execute_result"
    },
    {
     "data": {
      "image/png": "[encoded data removed]",
      "text/plain": [
       "<Figure size 432x288 with 1 Axes>"
      ]
     },
     "metadata": {
      "needs_background": "light"
     },
     "output_type": "display_data"
    }
   ],
   "source": [
    "pinit=[0.004, 1]\n",
    "params,cov = optimize.curve_fit(func, f, g1,pinit)\n",
    "print(params)\n",
    "plt.plot(f,g1,'o')\n",
    "plt.plot(f, func(f,params[0],params[1]))"
   ]
  },
  {
   "cell_type": "code",
   "execution_count": 124,
   "metadata": {},
   "outputs": [
    {
     "data": {
      "text/plain": [
       "0.005936792537750742"
      ]
     },
     "execution_count": 124,
     "metadata": {},
     "output_type": "execute_result"
    }
   ],
   "source": []
  },
  {
   "cell_type": "code",
   "execution_count": null,
   "metadata": {},
   "outputs": [],
   "source": []
  },
  {
   "cell_type": "code",
   "execution_count": null,
   "metadata": {},
   "outputs": [],
   "source": []
  }
 ],
 "metadata": {
  "kernelspec": {
   "display_name": "Python 3",
   "language": "python",
   "name": "python3"
  },
  "language_info": {
   "codemirror_mode": {
    "name": "ipython",
    "version": 3
   },
   "file_extension": ".py",
   "mimetype": "text/x-python",
   "name": "python",
   "nbconvert_exporter": "python",
   "pygments_lexer": "ipython3",
   "version": "3.7.4"
  }
 },
 "nbformat": 4,
 "nbformat_minor": 2
}
